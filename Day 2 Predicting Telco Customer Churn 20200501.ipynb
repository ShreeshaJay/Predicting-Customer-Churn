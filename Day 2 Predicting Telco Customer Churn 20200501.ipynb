{
 "cells": [
  {
   "cell_type": "markdown",
   "metadata": {},
   "source": [
    "<h1><center><font size=\"6\">Predicting Telco Customer Churn</font></center></h1>\n",
    "\n",
    "<h3><center><font size=\"4\"> https://www.kaggle.com/blastchar/telco-customer-churn </font></center></h2>"
   ]
  },
  {
   "cell_type": "code",
   "execution_count": 52,
   "metadata": {},
   "outputs": [],
   "source": [
    "# All of these are going to be done\n",
    "\n",
    "# Resampling data comparison\n",
    "\n",
    "# Data Cleansing using custom Python functions\n",
    "# Identification of bad columns: those with nulls, blanks, constant values or duplicated features\n",
    "# Prefix/Suffix removal\n",
    "# Alphanumeric column splitting\n",
    "# Blank space conversion to np.nan\n",
    "\n",
    "# Feature engine open source package from Soledad (Udemy instructor)\n",
    "# Null imputation using Median (continuous features) & Mode(categorical features)\n",
    "# Reducing cardinality:Discretization (continuous features) & Rare label binning (categorical features)\n",
    "# Categorical feature Encoding (Label + Ordinal encoding)"
   ]
  },
  {
   "cell_type": "markdown",
   "metadata": {},
   "source": [
    "<a id=\"top\"></a> <br>\n",
    "## Table of Contents\n",
    "1. [Introduction](#1)\n",
    "\n",
    "1. [Initialization](#2)\n",
    "    1. [Load Packages](#21)\n",
    "    1. [Define Metadata](#22)\n",
    "    \n",
    "1. [Load Data & Validate](#3)\n",
    "    \n",
    "1. [Data Skewness Correction](#4)\n",
    "    1. [Prepping before resampling](#41)\n",
    "        1. [Import cleaned dataframe](#411)\n",
    "        1. [Feature Target and Train Test Split](#412)\n",
    "        1. [Initializing Metrics Capture](#413)\n",
    "        1. [Import Custom Test Functions](#414)\n",
    "    1. [Resampling Strategies Comparison](#42)\n",
    "        1. [Resampling Method1: Undersampling - Random Undersampling](#421)\n",
    "        1. [Resampling Method2: Oversampling - SMOTE](#422)\n",
    "        1. [Resampling Method3: Hybrid Oversampling and Undersampling using SMOTEENN](#423)\n",
    "        1. [Resampling Method4: Custom function to oversample at different rates](#424)\n",
    "    \n",
    "1. [Data Cleansing & EDA for ML Generalizability](#5)\n",
    "    1. [Pre-cleaning](#51)\n",
    "        1. [Identify Bad columns](#511)\n",
    "        1. [Convert Blanks to np.nan](#512)\n",
    "        1. [Convert data types - string to float](#513)\n",
    "        1. [Update Bad columns list](#514)\n",
    "    1. [EDA for ML Generalizability](#52)\n",
    "        1. [Selecting top features](#521)\n",
    "        1. [EDA - Numerical Columns](#522)\n",
    "        1. [Outlier Definition, Detection & Removal](#523)\n",
    "    \n",
    "1. [Data Signal Amplification](#6)\n",
    "    1. [Data Prep - Feature Target & Train Test Split](#62)\n",
    "    1. [Handling Null Values](#62)\n",
    "        1. [Pre-Imputation](#621)\n",
    "        1. [Imputation](#622)\n",
    "        1. [Performance Testing](#623)\n",
    "    1. [Variance Reduction](#63)\n",
    "        1. [Binning - Numerical Feature](#631)\n",
    "        1. [Performance Testing](#632)\n",
    "        1. [Rare Label Encoding - Categorical Features](#633)\n",
    "        1. [Performance Testing](#634)\n",
    "    \n",
    "1. [Conclusion](#7)\n",
    "\n",
    "1. [References](#8)"
   ]
  },
  {
   "cell_type": "markdown",
   "metadata": {},
   "source": [
    "## <a id='1'>Introduction</a>  "
   ]
  },
  {
   "cell_type": "markdown",
   "metadata": {},
   "source": [
    "Continuing on from the previous week, the aim here is to improve upon our baseline model performance by focussing on the data"
   ]
  },
  {
   "cell_type": "markdown",
   "metadata": {},
   "source": [
    "## <a id='2'>Initialization</a>  "
   ]
  },
  {
   "cell_type": "markdown",
   "metadata": {},
   "source": [
    "### <a id='21'>Load Packages</a>  "
   ]
  },
  {
   "cell_type": "markdown",
   "metadata": {},
   "source": [
    "\n",
    "\n",
    "Load the minimum number of packages to get started and add more as we go along"
   ]
  },
  {
   "cell_type": "code",
   "execution_count": 1,
   "metadata": {},
   "outputs": [],
   "source": [
    "import pandas as pd \n",
    "import numpy as np\n",
    "\n",
    "import matplotlib.pyplot as plt\n",
    "%matplotlib inline\n",
    "\n",
    "import seaborn as sns\n",
    "\n",
    "import warnings\n",
    "warnings.filterwarnings('ignore')\n",
    "# This is to suppress any deprecation warnings \n",
    "\n",
    "import os\n",
    "\n",
    "import sys\n",
    "sys.path.append(\"/home/paperspace/Kaggle Grandmaster/Udemy Superstar/Classification\") # Adds higher directory to python modules path."
   ]
  },
  {
   "cell_type": "markdown",
   "metadata": {},
   "source": [
    "### <a id='22'>Define Metadata</a>  "
   ]
  },
  {
   "cell_type": "code",
   "execution_count": 2,
   "metadata": {},
   "outputs": [],
   "source": [
    "# Define the name of the target class column here instead of manually typing it out everywhere\n",
    "target_class_name = 'Churn'\n",
    "\n",
    "# Fill in the names of what you want to call the 0 and 1 class\n",
    "labels = ['No', 'Yes']\n",
    "\n",
    "input_file_name =  'WA_Fn-UseC_-Telco-Customer-Churn.csv'\n",
    "\n",
    "intermediate_data_path = '../intermediate data/'\n",
    "\n",
    "# This will be used to compare resampling techniques\n",
    "clean_df_file_name = intermediate_data_path + 'day1_cleaned_df_output_20200501.pkl'\n",
    "\n",
    "output_df_file_name = 'week2_cleaned_df_output_' \n",
    "\n",
    "# Enter the date in which this notebook is run\n",
    "export_date = '20200504'"
   ]
  },
  {
   "cell_type": "code",
   "execution_count": 3,
   "metadata": {},
   "outputs": [
    {
     "name": "stdout",
     "output_type": "stream",
     "text": [
      "['WA_Fn-UseC_-Telco-Customer-Churn.csv']\n"
     ]
    }
   ],
   "source": [
    "# Check ou tthe names of the files in the input folder that we need to load as dataframe\n",
    "import os\n",
    "print(os.listdir('../input'))\n",
    "# This will list all the files in this folder"
   ]
  },
  {
   "cell_type": "markdown",
   "metadata": {},
   "source": [
    "## <a id='3'>Load Data & Validate</a>  "
   ]
  },
  {
   "cell_type": "code",
   "execution_count": 4,
   "metadata": {},
   "outputs": [],
   "source": [
    "# Lets reload the same data as Week 1 because we deleted the rows containing the blanks from the TotalCharges column"
   ]
  },
  {
   "cell_type": "code",
   "execution_count": 5,
   "metadata": {
    "scrolled": true
   },
   "outputs": [
    {
     "data": {
      "text/html": [
       "<div>\n",
       "<style scoped>\n",
       "    .dataframe tbody tr th:only-of-type {\n",
       "        vertical-align: middle;\n",
       "    }\n",
       "\n",
       "    .dataframe tbody tr th {\n",
       "        vertical-align: top;\n",
       "    }\n",
       "\n",
       "    .dataframe thead th {\n",
       "        text-align: right;\n",
       "    }\n",
       "</style>\n",
       "<table border=\"1\" class=\"dataframe\">\n",
       "  <thead>\n",
       "    <tr style=\"text-align: right;\">\n",
       "      <th></th>\n",
       "      <th>gender</th>\n",
       "      <th>SeniorCitizen</th>\n",
       "      <th>Partner</th>\n",
       "      <th>Dependents</th>\n",
       "      <th>tenure</th>\n",
       "      <th>PhoneService</th>\n",
       "      <th>MultipleLines</th>\n",
       "      <th>InternetService</th>\n",
       "      <th>OnlineSecurity</th>\n",
       "      <th>OnlineBackup</th>\n",
       "      <th>DeviceProtection</th>\n",
       "      <th>TechSupport</th>\n",
       "      <th>StreamingTV</th>\n",
       "      <th>StreamingMovies</th>\n",
       "      <th>Contract</th>\n",
       "      <th>PaperlessBilling</th>\n",
       "      <th>PaymentMethod</th>\n",
       "      <th>MonthlyCharges</th>\n",
       "      <th>TotalCharges</th>\n",
       "      <th>Churn</th>\n",
       "    </tr>\n",
       "    <tr>\n",
       "      <th>customerID</th>\n",
       "      <th></th>\n",
       "      <th></th>\n",
       "      <th></th>\n",
       "      <th></th>\n",
       "      <th></th>\n",
       "      <th></th>\n",
       "      <th></th>\n",
       "      <th></th>\n",
       "      <th></th>\n",
       "      <th></th>\n",
       "      <th></th>\n",
       "      <th></th>\n",
       "      <th></th>\n",
       "      <th></th>\n",
       "      <th></th>\n",
       "      <th></th>\n",
       "      <th></th>\n",
       "      <th></th>\n",
       "      <th></th>\n",
       "      <th></th>\n",
       "    </tr>\n",
       "  </thead>\n",
       "  <tbody>\n",
       "    <tr>\n",
       "      <th>6993-YCOBK</th>\n",
       "      <td>Male</td>\n",
       "      <td>0</td>\n",
       "      <td>Yes</td>\n",
       "      <td>Yes</td>\n",
       "      <td>60</td>\n",
       "      <td>Yes</td>\n",
       "      <td>Yes</td>\n",
       "      <td>Fiber optic</td>\n",
       "      <td>Yes</td>\n",
       "      <td>No</td>\n",
       "      <td>Yes</td>\n",
       "      <td>Yes</td>\n",
       "      <td>Yes</td>\n",
       "      <td>Yes</td>\n",
       "      <td>Two year</td>\n",
       "      <td>Yes</td>\n",
       "      <td>Electronic check</td>\n",
       "      <td>110.60</td>\n",
       "      <td>6586.85</td>\n",
       "      <td>No</td>\n",
       "    </tr>\n",
       "    <tr>\n",
       "      <th>1299-AURJA</th>\n",
       "      <td>Female</td>\n",
       "      <td>0</td>\n",
       "      <td>Yes</td>\n",
       "      <td>Yes</td>\n",
       "      <td>70</td>\n",
       "      <td>Yes</td>\n",
       "      <td>Yes</td>\n",
       "      <td>No</td>\n",
       "      <td>No internet service</td>\n",
       "      <td>No internet service</td>\n",
       "      <td>No internet service</td>\n",
       "      <td>No internet service</td>\n",
       "      <td>No internet service</td>\n",
       "      <td>No internet service</td>\n",
       "      <td>Two year</td>\n",
       "      <td>No</td>\n",
       "      <td>Bank transfer (automatic)</td>\n",
       "      <td>24.70</td>\n",
       "      <td>1685.9</td>\n",
       "      <td>No</td>\n",
       "    </tr>\n",
       "    <tr>\n",
       "      <th>8058-DMYRU</th>\n",
       "      <td>Male</td>\n",
       "      <td>1</td>\n",
       "      <td>No</td>\n",
       "      <td>No</td>\n",
       "      <td>54</td>\n",
       "      <td>Yes</td>\n",
       "      <td>Yes</td>\n",
       "      <td>Fiber optic</td>\n",
       "      <td>No</td>\n",
       "      <td>Yes</td>\n",
       "      <td>No</td>\n",
       "      <td>No</td>\n",
       "      <td>No</td>\n",
       "      <td>Yes</td>\n",
       "      <td>Month-to-month</td>\n",
       "      <td>Yes</td>\n",
       "      <td>Electronic check</td>\n",
       "      <td>90.05</td>\n",
       "      <td>4931.8</td>\n",
       "      <td>No</td>\n",
       "    </tr>\n",
       "    <tr>\n",
       "      <th>3374-PZLXD</th>\n",
       "      <td>Male</td>\n",
       "      <td>0</td>\n",
       "      <td>No</td>\n",
       "      <td>No</td>\n",
       "      <td>34</td>\n",
       "      <td>Yes</td>\n",
       "      <td>No</td>\n",
       "      <td>No</td>\n",
       "      <td>No internet service</td>\n",
       "      <td>No internet service</td>\n",
       "      <td>No internet service</td>\n",
       "      <td>No internet service</td>\n",
       "      <td>No internet service</td>\n",
       "      <td>No internet service</td>\n",
       "      <td>Month-to-month</td>\n",
       "      <td>No</td>\n",
       "      <td>Mailed check</td>\n",
       "      <td>19.70</td>\n",
       "      <td>675.6</td>\n",
       "      <td>No</td>\n",
       "    </tr>\n",
       "    <tr>\n",
       "      <th>2947-DOMLJ</th>\n",
       "      <td>Male</td>\n",
       "      <td>0</td>\n",
       "      <td>No</td>\n",
       "      <td>Yes</td>\n",
       "      <td>1</td>\n",
       "      <td>Yes</td>\n",
       "      <td>No</td>\n",
       "      <td>DSL</td>\n",
       "      <td>Yes</td>\n",
       "      <td>No</td>\n",
       "      <td>No</td>\n",
       "      <td>No</td>\n",
       "      <td>No</td>\n",
       "      <td>No</td>\n",
       "      <td>Month-to-month</td>\n",
       "      <td>No</td>\n",
       "      <td>Mailed check</td>\n",
       "      <td>50.60</td>\n",
       "      <td>50.6</td>\n",
       "      <td>Yes</td>\n",
       "    </tr>\n",
       "  </tbody>\n",
       "</table>\n",
       "</div>"
      ],
      "text/plain": [
       "            gender  SeniorCitizen Partner Dependents  tenure PhoneService  \\\n",
       "customerID                                                                  \n",
       "6993-YCOBK    Male              0     Yes        Yes      60          Yes   \n",
       "1299-AURJA  Female              0     Yes        Yes      70          Yes   \n",
       "8058-DMYRU    Male              1      No         No      54          Yes   \n",
       "3374-PZLXD    Male              0      No         No      34          Yes   \n",
       "2947-DOMLJ    Male              0      No        Yes       1          Yes   \n",
       "\n",
       "           MultipleLines InternetService       OnlineSecurity  \\\n",
       "customerID                                                      \n",
       "6993-YCOBK           Yes     Fiber optic                  Yes   \n",
       "1299-AURJA           Yes              No  No internet service   \n",
       "8058-DMYRU           Yes     Fiber optic                   No   \n",
       "3374-PZLXD            No              No  No internet service   \n",
       "2947-DOMLJ            No             DSL                  Yes   \n",
       "\n",
       "                   OnlineBackup     DeviceProtection          TechSupport  \\\n",
       "customerID                                                                  \n",
       "6993-YCOBK                   No                  Yes                  Yes   \n",
       "1299-AURJA  No internet service  No internet service  No internet service   \n",
       "8058-DMYRU                  Yes                   No                   No   \n",
       "3374-PZLXD  No internet service  No internet service  No internet service   \n",
       "2947-DOMLJ                   No                   No                   No   \n",
       "\n",
       "                    StreamingTV      StreamingMovies        Contract  \\\n",
       "customerID                                                             \n",
       "6993-YCOBK                  Yes                  Yes        Two year   \n",
       "1299-AURJA  No internet service  No internet service        Two year   \n",
       "8058-DMYRU                   No                  Yes  Month-to-month   \n",
       "3374-PZLXD  No internet service  No internet service  Month-to-month   \n",
       "2947-DOMLJ                   No                   No  Month-to-month   \n",
       "\n",
       "           PaperlessBilling              PaymentMethod  MonthlyCharges  \\\n",
       "customerID                                                               \n",
       "6993-YCOBK              Yes           Electronic check          110.60   \n",
       "1299-AURJA               No  Bank transfer (automatic)           24.70   \n",
       "8058-DMYRU              Yes           Electronic check           90.05   \n",
       "3374-PZLXD               No               Mailed check           19.70   \n",
       "2947-DOMLJ               No               Mailed check           50.60   \n",
       "\n",
       "           TotalCharges Churn  \n",
       "customerID                     \n",
       "6993-YCOBK      6586.85    No  \n",
       "1299-AURJA       1685.9    No  \n",
       "8058-DMYRU       4931.8    No  \n",
       "3374-PZLXD        675.6    No  \n",
       "2947-DOMLJ         50.6   Yes  "
      ]
     },
     "execution_count": 5,
     "metadata": {},
     "output_type": "execute_result"
    }
   ],
   "source": [
    "df = pd.read_csv('../input/' + input_file_name, index_col='customerID')\n",
    "df.sample(5)"
   ]
  },
  {
   "cell_type": "markdown",
   "metadata": {},
   "source": [
    "\n",
    "Lets check the head & tail to make sure there is nothing going on"
   ]
  },
  {
   "cell_type": "code",
   "execution_count": 6,
   "metadata": {},
   "outputs": [
    {
     "data": {
      "text/html": [
       "<div>\n",
       "<style scoped>\n",
       "    .dataframe tbody tr th:only-of-type {\n",
       "        vertical-align: middle;\n",
       "    }\n",
       "\n",
       "    .dataframe tbody tr th {\n",
       "        vertical-align: top;\n",
       "    }\n",
       "\n",
       "    .dataframe thead th {\n",
       "        text-align: right;\n",
       "    }\n",
       "</style>\n",
       "<table border=\"1\" class=\"dataframe\">\n",
       "  <thead>\n",
       "    <tr style=\"text-align: right;\">\n",
       "      <th></th>\n",
       "      <th>gender</th>\n",
       "      <th>SeniorCitizen</th>\n",
       "      <th>Partner</th>\n",
       "      <th>Dependents</th>\n",
       "      <th>tenure</th>\n",
       "      <th>PhoneService</th>\n",
       "      <th>MultipleLines</th>\n",
       "      <th>InternetService</th>\n",
       "      <th>OnlineSecurity</th>\n",
       "      <th>OnlineBackup</th>\n",
       "      <th>DeviceProtection</th>\n",
       "      <th>TechSupport</th>\n",
       "      <th>StreamingTV</th>\n",
       "      <th>StreamingMovies</th>\n",
       "      <th>Contract</th>\n",
       "      <th>PaperlessBilling</th>\n",
       "      <th>PaymentMethod</th>\n",
       "      <th>MonthlyCharges</th>\n",
       "      <th>TotalCharges</th>\n",
       "      <th>Churn</th>\n",
       "    </tr>\n",
       "    <tr>\n",
       "      <th>customerID</th>\n",
       "      <th></th>\n",
       "      <th></th>\n",
       "      <th></th>\n",
       "      <th></th>\n",
       "      <th></th>\n",
       "      <th></th>\n",
       "      <th></th>\n",
       "      <th></th>\n",
       "      <th></th>\n",
       "      <th></th>\n",
       "      <th></th>\n",
       "      <th></th>\n",
       "      <th></th>\n",
       "      <th></th>\n",
       "      <th></th>\n",
       "      <th></th>\n",
       "      <th></th>\n",
       "      <th></th>\n",
       "      <th></th>\n",
       "      <th></th>\n",
       "    </tr>\n",
       "  </thead>\n",
       "  <tbody>\n",
       "    <tr>\n",
       "      <th>7590-VHVEG</th>\n",
       "      <td>Female</td>\n",
       "      <td>0</td>\n",
       "      <td>Yes</td>\n",
       "      <td>No</td>\n",
       "      <td>1</td>\n",
       "      <td>No</td>\n",
       "      <td>No phone service</td>\n",
       "      <td>DSL</td>\n",
       "      <td>No</td>\n",
       "      <td>Yes</td>\n",
       "      <td>No</td>\n",
       "      <td>No</td>\n",
       "      <td>No</td>\n",
       "      <td>No</td>\n",
       "      <td>Month-to-month</td>\n",
       "      <td>Yes</td>\n",
       "      <td>Electronic check</td>\n",
       "      <td>29.85</td>\n",
       "      <td>29.85</td>\n",
       "      <td>No</td>\n",
       "    </tr>\n",
       "    <tr>\n",
       "      <th>5575-GNVDE</th>\n",
       "      <td>Male</td>\n",
       "      <td>0</td>\n",
       "      <td>No</td>\n",
       "      <td>No</td>\n",
       "      <td>34</td>\n",
       "      <td>Yes</td>\n",
       "      <td>No</td>\n",
       "      <td>DSL</td>\n",
       "      <td>Yes</td>\n",
       "      <td>No</td>\n",
       "      <td>Yes</td>\n",
       "      <td>No</td>\n",
       "      <td>No</td>\n",
       "      <td>No</td>\n",
       "      <td>One year</td>\n",
       "      <td>No</td>\n",
       "      <td>Mailed check</td>\n",
       "      <td>56.95</td>\n",
       "      <td>1889.5</td>\n",
       "      <td>No</td>\n",
       "    </tr>\n",
       "    <tr>\n",
       "      <th>3668-QPYBK</th>\n",
       "      <td>Male</td>\n",
       "      <td>0</td>\n",
       "      <td>No</td>\n",
       "      <td>No</td>\n",
       "      <td>2</td>\n",
       "      <td>Yes</td>\n",
       "      <td>No</td>\n",
       "      <td>DSL</td>\n",
       "      <td>Yes</td>\n",
       "      <td>Yes</td>\n",
       "      <td>No</td>\n",
       "      <td>No</td>\n",
       "      <td>No</td>\n",
       "      <td>No</td>\n",
       "      <td>Month-to-month</td>\n",
       "      <td>Yes</td>\n",
       "      <td>Mailed check</td>\n",
       "      <td>53.85</td>\n",
       "      <td>108.15</td>\n",
       "      <td>Yes</td>\n",
       "    </tr>\n",
       "  </tbody>\n",
       "</table>\n",
       "</div>"
      ],
      "text/plain": [
       "            gender  SeniorCitizen Partner Dependents  tenure PhoneService  \\\n",
       "customerID                                                                  \n",
       "7590-VHVEG  Female              0     Yes         No       1           No   \n",
       "5575-GNVDE    Male              0      No         No      34          Yes   \n",
       "3668-QPYBK    Male              0      No         No       2          Yes   \n",
       "\n",
       "               MultipleLines InternetService OnlineSecurity OnlineBackup  \\\n",
       "customerID                                                                 \n",
       "7590-VHVEG  No phone service             DSL             No          Yes   \n",
       "5575-GNVDE                No             DSL            Yes           No   \n",
       "3668-QPYBK                No             DSL            Yes          Yes   \n",
       "\n",
       "           DeviceProtection TechSupport StreamingTV StreamingMovies  \\\n",
       "customerID                                                            \n",
       "7590-VHVEG               No          No          No              No   \n",
       "5575-GNVDE              Yes          No          No              No   \n",
       "3668-QPYBK               No          No          No              No   \n",
       "\n",
       "                  Contract PaperlessBilling     PaymentMethod  MonthlyCharges  \\\n",
       "customerID                                                                      \n",
       "7590-VHVEG  Month-to-month              Yes  Electronic check           29.85   \n",
       "5575-GNVDE        One year               No      Mailed check           56.95   \n",
       "3668-QPYBK  Month-to-month              Yes      Mailed check           53.85   \n",
       "\n",
       "           TotalCharges Churn  \n",
       "customerID                     \n",
       "7590-VHVEG        29.85    No  \n",
       "5575-GNVDE       1889.5    No  \n",
       "3668-QPYBK       108.15   Yes  "
      ]
     },
     "execution_count": 6,
     "metadata": {},
     "output_type": "execute_result"
    }
   ],
   "source": [
    "df.head(3)\n",
    "# What you are checking here is whether there are some unwanted headers from teh input file that \n",
    "# can corrupt our data\n",
    "# If found, either open the file and manually delete it or only load the relevant columns"
   ]
  },
  {
   "cell_type": "code",
   "execution_count": 7,
   "metadata": {},
   "outputs": [
    {
     "data": {
      "text/html": [
       "<div>\n",
       "<style scoped>\n",
       "    .dataframe tbody tr th:only-of-type {\n",
       "        vertical-align: middle;\n",
       "    }\n",
       "\n",
       "    .dataframe tbody tr th {\n",
       "        vertical-align: top;\n",
       "    }\n",
       "\n",
       "    .dataframe thead th {\n",
       "        text-align: right;\n",
       "    }\n",
       "</style>\n",
       "<table border=\"1\" class=\"dataframe\">\n",
       "  <thead>\n",
       "    <tr style=\"text-align: right;\">\n",
       "      <th></th>\n",
       "      <th>gender</th>\n",
       "      <th>SeniorCitizen</th>\n",
       "      <th>Partner</th>\n",
       "      <th>Dependents</th>\n",
       "      <th>tenure</th>\n",
       "      <th>PhoneService</th>\n",
       "      <th>MultipleLines</th>\n",
       "      <th>InternetService</th>\n",
       "      <th>OnlineSecurity</th>\n",
       "      <th>OnlineBackup</th>\n",
       "      <th>DeviceProtection</th>\n",
       "      <th>TechSupport</th>\n",
       "      <th>StreamingTV</th>\n",
       "      <th>StreamingMovies</th>\n",
       "      <th>Contract</th>\n",
       "      <th>PaperlessBilling</th>\n",
       "      <th>PaymentMethod</th>\n",
       "      <th>MonthlyCharges</th>\n",
       "      <th>TotalCharges</th>\n",
       "      <th>Churn</th>\n",
       "    </tr>\n",
       "    <tr>\n",
       "      <th>customerID</th>\n",
       "      <th></th>\n",
       "      <th></th>\n",
       "      <th></th>\n",
       "      <th></th>\n",
       "      <th></th>\n",
       "      <th></th>\n",
       "      <th></th>\n",
       "      <th></th>\n",
       "      <th></th>\n",
       "      <th></th>\n",
       "      <th></th>\n",
       "      <th></th>\n",
       "      <th></th>\n",
       "      <th></th>\n",
       "      <th></th>\n",
       "      <th></th>\n",
       "      <th></th>\n",
       "      <th></th>\n",
       "      <th></th>\n",
       "      <th></th>\n",
       "    </tr>\n",
       "  </thead>\n",
       "  <tbody>\n",
       "    <tr>\n",
       "      <th>4801-JZAZL</th>\n",
       "      <td>Female</td>\n",
       "      <td>0</td>\n",
       "      <td>Yes</td>\n",
       "      <td>Yes</td>\n",
       "      <td>11</td>\n",
       "      <td>No</td>\n",
       "      <td>No phone service</td>\n",
       "      <td>DSL</td>\n",
       "      <td>Yes</td>\n",
       "      <td>No</td>\n",
       "      <td>No</td>\n",
       "      <td>No</td>\n",
       "      <td>No</td>\n",
       "      <td>No</td>\n",
       "      <td>Month-to-month</td>\n",
       "      <td>Yes</td>\n",
       "      <td>Electronic check</td>\n",
       "      <td>29.60</td>\n",
       "      <td>346.45</td>\n",
       "      <td>No</td>\n",
       "    </tr>\n",
       "    <tr>\n",
       "      <th>8361-LTMKD</th>\n",
       "      <td>Male</td>\n",
       "      <td>1</td>\n",
       "      <td>Yes</td>\n",
       "      <td>No</td>\n",
       "      <td>4</td>\n",
       "      <td>Yes</td>\n",
       "      <td>Yes</td>\n",
       "      <td>Fiber optic</td>\n",
       "      <td>No</td>\n",
       "      <td>No</td>\n",
       "      <td>No</td>\n",
       "      <td>No</td>\n",
       "      <td>No</td>\n",
       "      <td>No</td>\n",
       "      <td>Month-to-month</td>\n",
       "      <td>Yes</td>\n",
       "      <td>Mailed check</td>\n",
       "      <td>74.40</td>\n",
       "      <td>306.6</td>\n",
       "      <td>Yes</td>\n",
       "    </tr>\n",
       "    <tr>\n",
       "      <th>3186-AJIEK</th>\n",
       "      <td>Male</td>\n",
       "      <td>0</td>\n",
       "      <td>No</td>\n",
       "      <td>No</td>\n",
       "      <td>66</td>\n",
       "      <td>Yes</td>\n",
       "      <td>No</td>\n",
       "      <td>Fiber optic</td>\n",
       "      <td>Yes</td>\n",
       "      <td>No</td>\n",
       "      <td>Yes</td>\n",
       "      <td>Yes</td>\n",
       "      <td>Yes</td>\n",
       "      <td>Yes</td>\n",
       "      <td>Two year</td>\n",
       "      <td>Yes</td>\n",
       "      <td>Bank transfer (automatic)</td>\n",
       "      <td>105.65</td>\n",
       "      <td>6844.5</td>\n",
       "      <td>No</td>\n",
       "    </tr>\n",
       "  </tbody>\n",
       "</table>\n",
       "</div>"
      ],
      "text/plain": [
       "            gender  SeniorCitizen Partner Dependents  tenure PhoneService  \\\n",
       "customerID                                                                  \n",
       "4801-JZAZL  Female              0     Yes        Yes      11           No   \n",
       "8361-LTMKD    Male              1     Yes         No       4          Yes   \n",
       "3186-AJIEK    Male              0      No         No      66          Yes   \n",
       "\n",
       "               MultipleLines InternetService OnlineSecurity OnlineBackup  \\\n",
       "customerID                                                                 \n",
       "4801-JZAZL  No phone service             DSL            Yes           No   \n",
       "8361-LTMKD               Yes     Fiber optic             No           No   \n",
       "3186-AJIEK                No     Fiber optic            Yes           No   \n",
       "\n",
       "           DeviceProtection TechSupport StreamingTV StreamingMovies  \\\n",
       "customerID                                                            \n",
       "4801-JZAZL               No          No          No              No   \n",
       "8361-LTMKD               No          No          No              No   \n",
       "3186-AJIEK              Yes         Yes         Yes             Yes   \n",
       "\n",
       "                  Contract PaperlessBilling              PaymentMethod  \\\n",
       "customerID                                                               \n",
       "4801-JZAZL  Month-to-month              Yes           Electronic check   \n",
       "8361-LTMKD  Month-to-month              Yes               Mailed check   \n",
       "3186-AJIEK        Two year              Yes  Bank transfer (automatic)   \n",
       "\n",
       "            MonthlyCharges TotalCharges Churn  \n",
       "customerID                                     \n",
       "4801-JZAZL           29.60       346.45    No  \n",
       "8361-LTMKD           74.40        306.6   Yes  \n",
       "3186-AJIEK          105.65       6844.5    No  "
      ]
     },
     "execution_count": 7,
     "metadata": {},
     "output_type": "execute_result"
    }
   ],
   "source": [
    "df.tail(3)\n",
    "# similar logic here"
   ]
  },
  {
   "cell_type": "markdown",
   "metadata": {},
   "source": [
    "No trouble with loading the data. Both the head and tail are clean"
   ]
  },
  {
   "cell_type": "markdown",
   "metadata": {},
   "source": [
    "We are going to hold off on the outlier detection and removal until after the data augmentation"
   ]
  },
  {
   "cell_type": "markdown",
   "metadata": {},
   "source": [
    "## <a id = 4> Data Skewness Correction"
   ]
  },
  {
   "cell_type": "markdown",
   "metadata": {},
   "source": [
    "Data always beats algorithm. \n",
    "\n",
    "Given that our dataset is heavily skewed in favor of the negative class (ie non-fraud),\n",
    "any technique that brings the ratio closer to 50:50 should theoretically improve the performance.\n",
    "\n",
    "The theoretical reason for favoring the 50:50 ratio is that the results will be no worse than what was obtained with natural class distributions.\n",
    "\n",
    "https://www.researchgate.net/publication/2364670_The_Effect_of_Class_Distribution_on_Classifier_Learning_An_Empirical_Study"
   ]
  },
  {
   "cell_type": "markdown",
   "metadata": {},
   "source": [
    "Broadly there are 2 approaches to data skewness correction: undersampling and oversampling\n",
    "    \n",
    "In Undersampling, we throw away the negative class until the remaining data is balanced.\n",
    "\n",
    "In Oversampling, we sample  repeatedly the positive class until the synthetic data is balanced\n",
    "\n",
    "There is also the hybrid approach where we sample both classes simultaneously until the minority class reaches a threshold and I will also introduce a custom function to generate samples.\n",
    "\n",
    "But first, lets do some groundwork ...."
   ]
  },
  {
   "cell_type": "markdown",
   "metadata": {},
   "source": [
    "### <a id = 41> Prepping before resampling"
   ]
  },
  {
   "cell_type": "markdown",
   "metadata": {},
   "source": [
    "#### <a id = 411> Import cleaned dataframe"
   ]
  },
  {
   "cell_type": "markdown",
   "metadata": {},
   "source": [
    "This is just to compare the resampling techniques and doesnt affect the subsequent steps. Hence use the cleaned dataset from last week"
   ]
  },
  {
   "cell_type": "code",
   "execution_count": 8,
   "metadata": {},
   "outputs": [],
   "source": [
    "import pickle\n",
    "\n",
    "infile = open(clean_df_file_name,'rb')\n",
    "clean_df = pickle.load(infile)\n",
    "infile.close()\n"
   ]
  },
  {
   "cell_type": "markdown",
   "metadata": {},
   "source": [
    "#### <a id = 412> Feature Target and Train Test Split"
   ]
  },
  {
   "cell_type": "markdown",
   "metadata": {},
   "source": [
    "\n",
    "Why should we do the train test split here rather than just before the modelling?\n",
    "\n",
    "Because the data augmentation techniques should leave the Test set alone and only augment the train set. The Test set should be a valid representation of how the unseen unlabelled production data will occur during which time we wont have the luxury of correcting the imbalance\n"
   ]
  },
  {
   "cell_type": "code",
   "execution_count": 9,
   "metadata": {},
   "outputs": [
    {
     "name": "stdout",
     "output_type": "stream",
     "text": [
      "(5625, 19) (1407, 19) 1495 374\n"
     ]
    }
   ],
   "source": [
    "# Feature Target split\n",
    "clean_X = clean_df.drop(target_class_name, axis=1)\n",
    "clean_y = clean_df[target_class_name]\n",
    "\n",
    "# split into train and test set and make sure to use the stratify = y\n",
    "from sklearn.model_selection import train_test_split\n",
    "X_train, X_test, y_train, y_test = train_test_split(clean_X, clean_y, test_size=0.2, \n",
    "                                                    stratify=clean_y, random_state=42)\n",
    "\n",
    "# These are the original dimensions and the class distributions\n",
    "print(X_train.shape, X_test.shape, sum(y_train), sum(y_test))\n"
   ]
  },
  {
   "cell_type": "markdown",
   "metadata": {},
   "source": [
    "#### <a id = 413> Initializing Metrics Capture"
   ]
  },
  {
   "cell_type": "markdown",
   "metadata": {},
   "source": [
    "Let me initialize a dataframe to hold relevant metrics for each of the augmentation techniques we are going to try"
   ]
  },
  {
   "cell_type": "code",
   "execution_count": 10,
   "metadata": {},
   "outputs": [
    {
     "data": {
      "text/html": [
       "<div>\n",
       "<style scoped>\n",
       "    .dataframe tbody tr th:only-of-type {\n",
       "        vertical-align: middle;\n",
       "    }\n",
       "\n",
       "    .dataframe tbody tr th {\n",
       "        vertical-align: top;\n",
       "    }\n",
       "\n",
       "    .dataframe thead th {\n",
       "        text-align: right;\n",
       "    }\n",
       "</style>\n",
       "<table border=\"1\" class=\"dataframe\">\n",
       "  <thead>\n",
       "    <tr style=\"text-align: right;\">\n",
       "      <th></th>\n",
       "      <th>Pos_Precision</th>\n",
       "      <th>Pos_Recall</th>\n",
       "      <th>Pos_F1</th>\n",
       "      <th>ROC AUC</th>\n",
       "      <th>FN</th>\n",
       "      <th>TP</th>\n",
       "      <th>FP</th>\n",
       "      <th>TN</th>\n",
       "      <th>Precision_at_Recall</th>\n",
       "    </tr>\n",
       "  </thead>\n",
       "  <tbody>\n",
       "    <tr>\n",
       "      <th>Undersampling</th>\n",
       "      <td>NaN</td>\n",
       "      <td>NaN</td>\n",
       "      <td>NaN</td>\n",
       "      <td>NaN</td>\n",
       "      <td>NaN</td>\n",
       "      <td>NaN</td>\n",
       "      <td>NaN</td>\n",
       "      <td>NaN</td>\n",
       "      <td>NaN</td>\n",
       "    </tr>\n",
       "    <tr>\n",
       "      <th>Oversampling</th>\n",
       "      <td>NaN</td>\n",
       "      <td>NaN</td>\n",
       "      <td>NaN</td>\n",
       "      <td>NaN</td>\n",
       "      <td>NaN</td>\n",
       "      <td>NaN</td>\n",
       "      <td>NaN</td>\n",
       "      <td>NaN</td>\n",
       "      <td>NaN</td>\n",
       "    </tr>\n",
       "    <tr>\n",
       "      <th>Hybrid</th>\n",
       "      <td>NaN</td>\n",
       "      <td>NaN</td>\n",
       "      <td>NaN</td>\n",
       "      <td>NaN</td>\n",
       "      <td>NaN</td>\n",
       "      <td>NaN</td>\n",
       "      <td>NaN</td>\n",
       "      <td>NaN</td>\n",
       "      <td>NaN</td>\n",
       "    </tr>\n",
       "    <tr>\n",
       "      <th>Custom</th>\n",
       "      <td>NaN</td>\n",
       "      <td>NaN</td>\n",
       "      <td>NaN</td>\n",
       "      <td>NaN</td>\n",
       "      <td>NaN</td>\n",
       "      <td>NaN</td>\n",
       "      <td>NaN</td>\n",
       "      <td>NaN</td>\n",
       "      <td>NaN</td>\n",
       "    </tr>\n",
       "  </tbody>\n",
       "</table>\n",
       "</div>"
      ],
      "text/plain": [
       "              Pos_Precision Pos_Recall Pos_F1 ROC AUC   FN   TP   FP   TN  \\\n",
       "Undersampling           NaN        NaN    NaN     NaN  NaN  NaN  NaN  NaN   \n",
       "Oversampling            NaN        NaN    NaN     NaN  NaN  NaN  NaN  NaN   \n",
       "Hybrid                  NaN        NaN    NaN     NaN  NaN  NaN  NaN  NaN   \n",
       "Custom                  NaN        NaN    NaN     NaN  NaN  NaN  NaN  NaN   \n",
       "\n",
       "              Precision_at_Recall  \n",
       "Undersampling                 NaN  \n",
       "Oversampling                  NaN  \n",
       "Hybrid                        NaN  \n",
       "Custom                        NaN  "
      ]
     },
     "execution_count": 10,
     "metadata": {},
     "output_type": "execute_result"
    }
   ],
   "source": [
    "sampling_strategy_metrics_df = pd.DataFrame(\n",
    "columns = ['Pos_Precision','Pos_Recall','Pos_F1',\n",
    "           'ROC AUC','FN','TP','FP','TN','Precision_at_Recall'],\n",
    "index = ['Undersampling','Oversampling','Hybrid','Custom'])\n",
    "\n",
    "sampling_strategy_metrics_df\n",
    "\n",
    "# Depending on the business problem, one or more of these metrics will be more important.\n",
    "# Here lets assume that the Recall is what we are interested in \n",
    "# as long as the Precision is not too far off\n",
    "# Unlike balanced datasets, the ROC AUC is a poor indicator here \n",
    "# because the algorithm can get 'good' scores by just predicting\n",
    "# everything as the majority class.\n",
    "\n",
    "# The prefixes exist for the Precision, Recall and F1 \n",
    "# because I am only interested in the positive class"
   ]
  },
  {
   "cell_type": "markdown",
   "metadata": {},
   "source": [
    "#### <a id = 414> Importing Test Functions"
   ]
  },
  {
   "cell_type": "markdown",
   "metadata": {},
   "source": [
    "Given that there are 4 techniques that I want to compare, its better to have a custom function that to avoid repeating code. I am going to create a wrapper around my metrics function to output the resampled train sets and test metrics"
   ]
  },
  {
   "cell_type": "code",
   "execution_count": 11,
   "metadata": {},
   "outputs": [],
   "source": [
    "from helper_functions_comprehensive import resample_and_test_performance_function"
   ]
  },
  {
   "cell_type": "markdown",
   "metadata": {},
   "source": [
    "### <a id = 42> Resampling Strategies Comparison"
   ]
  },
  {
   "cell_type": "markdown",
   "metadata": {},
   "source": [
    "There are many techniques for undersampling, oversampling and the hybrid approach. One popular API is imblearn available at\n",
    "https://imbalanced-learn.readthedocs.io/en/stable/api.html\n",
    "\n",
    "In this notebook, I am going to pick one implementation for each approach and compare results. \n",
    "The reader is encouraged to try all"
   ]
  },
  {
   "cell_type": "markdown",
   "metadata": {},
   "source": [
    "#### <a id = 411> Resampling Method1: Undersampling - RandomUnderSampler"
   ]
  },
  {
   "cell_type": "markdown",
   "metadata": {},
   "source": [
    "In the first implementation, I am going to downsample my majority (negative) class using the RandomUnderSampler method as the name suggests, the algorithm randomly selects the minority class until the class ratio is the same\n",
    "\n",
    "The reader is encouraged to select more sophisticated techniques available in imblearn API documentation"
   ]
  },
  {
   "cell_type": "code",
   "execution_count": 12,
   "metadata": {},
   "outputs": [
    {
     "name": "stdout",
     "output_type": "stream",
     "text": [
      "The size of the resampled train sets are as follows:\n",
      "(2990, 19) 1495\n",
      "Has a Test accuracy of 74.0 % \n",
      "              precision    recall  f1-score   support\n",
      "\n",
      "          No       0.89      0.73      0.80      1033\n",
      "         Yes       0.50      0.76      0.61       374\n",
      "\n",
      "    accuracy                           0.74      1407\n",
      "   macro avg       0.70      0.75      0.71      1407\n",
      "weighted avg       0.79      0.74      0.75      1407\n",
      "\n",
      "The ROC AUC Score on Test set is 0.81\n",
      "Confusion matrix, without normalization\n",
      "[[753 280]\n",
      " [ 89 285]]\n"
     ]
    },
    {
     "data": {
      "image/png": "[encoded data removed]",
      "text/plain": [
       "<Figure size 720x432 with 1 Axes>"
      ]
     },
     "metadata": {},
     "output_type": "display_data"
    },
    {
     "data": {
      "image/png": "[encoded data removed]",
      "text/plain": [
       "<Figure size 576x288 with 2 Axes>"
      ]
     },
     "metadata": {},
     "output_type": "display_data"
    }
   ],
   "source": [
    "from imblearn.under_sampling import RandomUnderSampler\n",
    "\n",
    "_,__, sampling_strategy_metrics_df.loc['Undersampling'] = resample_and_test_performance_function(\n",
    "                    RandomUnderSampler(random_state=42), X_train, y_train, X_test, y_test, labels)\n",
    "\n",
    "# Notice how the size of the downsampled dataset is exactly \n",
    "# twice as large as the number of minority positive class"
   ]
  },
  {
   "cell_type": "code",
   "execution_count": 13,
   "metadata": {},
   "outputs": [
    {
     "data": {
      "text/html": [
       "<div>\n",
       "<style scoped>\n",
       "    .dataframe tbody tr th:only-of-type {\n",
       "        vertical-align: middle;\n",
       "    }\n",
       "\n",
       "    .dataframe tbody tr th {\n",
       "        vertical-align: top;\n",
       "    }\n",
       "\n",
       "    .dataframe thead th {\n",
       "        text-align: right;\n",
       "    }\n",
       "</style>\n",
       "<table border=\"1\" class=\"dataframe\">\n",
       "  <thead>\n",
       "    <tr style=\"text-align: right;\">\n",
       "      <th></th>\n",
       "      <th>Pos_Precision</th>\n",
       "      <th>Pos_Recall</th>\n",
       "      <th>Pos_F1</th>\n",
       "      <th>ROC AUC</th>\n",
       "      <th>FN</th>\n",
       "      <th>TP</th>\n",
       "      <th>FP</th>\n",
       "      <th>TN</th>\n",
       "      <th>Precision_at_Recall</th>\n",
       "    </tr>\n",
       "  </thead>\n",
       "  <tbody>\n",
       "    <tr>\n",
       "      <th>Undersampling</th>\n",
       "      <td>0.504425</td>\n",
       "      <td>0.762032</td>\n",
       "      <td>0.607029</td>\n",
       "      <td>0.81</td>\n",
       "      <td>89</td>\n",
       "      <td>285</td>\n",
       "      <td>280</td>\n",
       "      <td>753</td>\n",
       "      <td>0.447075</td>\n",
       "    </tr>\n",
       "    <tr>\n",
       "      <th>Oversampling</th>\n",
       "      <td>NaN</td>\n",
       "      <td>NaN</td>\n",
       "      <td>NaN</td>\n",
       "      <td>NaN</td>\n",
       "      <td>NaN</td>\n",
       "      <td>NaN</td>\n",
       "      <td>NaN</td>\n",
       "      <td>NaN</td>\n",
       "      <td>NaN</td>\n",
       "    </tr>\n",
       "    <tr>\n",
       "      <th>Hybrid</th>\n",
       "      <td>NaN</td>\n",
       "      <td>NaN</td>\n",
       "      <td>NaN</td>\n",
       "      <td>NaN</td>\n",
       "      <td>NaN</td>\n",
       "      <td>NaN</td>\n",
       "      <td>NaN</td>\n",
       "      <td>NaN</td>\n",
       "      <td>NaN</td>\n",
       "    </tr>\n",
       "    <tr>\n",
       "      <th>Custom</th>\n",
       "      <td>NaN</td>\n",
       "      <td>NaN</td>\n",
       "      <td>NaN</td>\n",
       "      <td>NaN</td>\n",
       "      <td>NaN</td>\n",
       "      <td>NaN</td>\n",
       "      <td>NaN</td>\n",
       "      <td>NaN</td>\n",
       "      <td>NaN</td>\n",
       "    </tr>\n",
       "  </tbody>\n",
       "</table>\n",
       "</div>"
      ],
      "text/plain": [
       "              Pos_Precision Pos_Recall    Pos_F1 ROC AUC   FN   TP   FP   TN  \\\n",
       "Undersampling      0.504425   0.762032  0.607029    0.81   89  285  280  753   \n",
       "Oversampling            NaN        NaN       NaN     NaN  NaN  NaN  NaN  NaN   \n",
       "Hybrid                  NaN        NaN       NaN     NaN  NaN  NaN  NaN  NaN   \n",
       "Custom                  NaN        NaN       NaN     NaN  NaN  NaN  NaN  NaN   \n",
       "\n",
       "              Precision_at_Recall  \n",
       "Undersampling            0.447075  \n",
       "Oversampling                  NaN  \n",
       "Hybrid                        NaN  \n",
       "Custom                        NaN  "
      ]
     },
     "execution_count": 13,
     "metadata": {},
     "output_type": "execute_result"
    }
   ],
   "source": [
    "sampling_strategy_metrics_df"
   ]
  },
  {
   "cell_type": "markdown",
   "metadata": {},
   "source": [
    "The Precision at Recall is better than the baseline"
   ]
  },
  {
   "cell_type": "markdown",
   "metadata": {},
   "source": [
    "If the modelling efforts were to stop now, business will likely choose the baseline model from day1\n",
    "because the False Positives are significantly lower and likely outweigh any benefits from increased capture of True Frauds"
   ]
  },
  {
   "cell_type": "markdown",
   "metadata": {},
   "source": [
    "#### <a id = 422>Resampling Method2: Oversampling - SMOTE"
   ]
  },
  {
   "cell_type": "markdown",
   "metadata": {},
   "source": [
    "Next, I am going to try a popular oversampling technique for SMOTE\n",
    "SMOTE stands for Synthetic Minority Over-sampling Technique and was presented in a 2002 paper here\n",
    "https://jair.org/index.php/jair/article/view/10302/24590\n",
    "\n",
    "this technique is theoretically superior to just oversampling with replacement for the minority class \n",
    "(the latter causes the decision tree to overfit)\n",
    "In SMOTE, instead of sampling with replacement of the original minority class, synthetic new samples are generated\n",
    "According to the article, Synthetic samples are generated in the following way: "
   ]
  },
  {
   "cell_type": "markdown",
   "metadata": {},
   "source": [
    "\"Take the difference between the feature vector (sample)under consideration and its nearest neighbor. \n",
    "Multiply this difference by a random numberbetween 0 and 1, and add it to the feature vector under consideration.  \n",
    "This causes the selection of a random point along the line segment between two specific features.  \n",
    "This approach effectively forces the decision region of the minority class to become more general.\""
   ]
  },
  {
   "cell_type": "code",
   "execution_count": 14,
   "metadata": {},
   "outputs": [
    {
     "name": "stdout",
     "output_type": "stream",
     "text": [
      "The size of the resampled train sets are as follows:\n",
      "(8260, 19) 4130\n",
      "Has a Test accuracy of 78.0 % \n",
      "              precision    recall  f1-score   support\n",
      "\n",
      "          No       0.83      0.88      0.85      1033\n",
      "         Yes       0.60      0.51      0.55       374\n",
      "\n",
      "    accuracy                           0.78      1407\n",
      "   macro avg       0.72      0.69      0.70      1407\n",
      "weighted avg       0.77      0.78      0.77      1407\n",
      "\n",
      "The ROC AUC Score on Test set is 0.81\n",
      "Confusion matrix, without normalization\n",
      "[[905 128]\n",
      " [182 192]]\n"
     ]
    },
    {
     "data": {
      "image/png": "[encoded data removed]",
      "text/plain": [
       "<Figure size 720x432 with 1 Axes>"
      ]
     },
     "metadata": {},
     "output_type": "display_data"
    },
    {
     "data": {
      "image/png": "[encoded data removed]",
      "text/plain": [
       "<Figure size 576x288 with 2 Axes>"
      ]
     },
     "metadata": {},
     "output_type": "display_data"
    }
   ],
   "source": [
    "from imblearn.over_sampling import SMOTE\n",
    "\n",
    "_,__, sampling_strategy_metrics_df.loc['Oversampling'] = resample_and_test_performance_function(\n",
    "                                SMOTE(random_state=42), X_train, y_train, X_test, y_test, labels)\n",
    "\n",
    "# Notice how the upsampled dataset is exactly twice as large as the number of minority positive class\n",
    "# This is characteristic of SMOTE"
   ]
  },
  {
   "cell_type": "code",
   "execution_count": 15,
   "metadata": {},
   "outputs": [
    {
     "data": {
      "text/html": [
       "<div>\n",
       "<style scoped>\n",
       "    .dataframe tbody tr th:only-of-type {\n",
       "        vertical-align: middle;\n",
       "    }\n",
       "\n",
       "    .dataframe tbody tr th {\n",
       "        vertical-align: top;\n",
       "    }\n",
       "\n",
       "    .dataframe thead th {\n",
       "        text-align: right;\n",
       "    }\n",
       "</style>\n",
       "<table border=\"1\" class=\"dataframe\">\n",
       "  <thead>\n",
       "    <tr style=\"text-align: right;\">\n",
       "      <th></th>\n",
       "      <th>Pos_Precision</th>\n",
       "      <th>Pos_Recall</th>\n",
       "      <th>Pos_F1</th>\n",
       "      <th>ROC AUC</th>\n",
       "      <th>FN</th>\n",
       "      <th>TP</th>\n",
       "      <th>FP</th>\n",
       "      <th>TN</th>\n",
       "      <th>Precision_at_Recall</th>\n",
       "    </tr>\n",
       "  </thead>\n",
       "  <tbody>\n",
       "    <tr>\n",
       "      <th>Undersampling</th>\n",
       "      <td>0.504425</td>\n",
       "      <td>0.762032</td>\n",
       "      <td>0.607029</td>\n",
       "      <td>0.81</td>\n",
       "      <td>89</td>\n",
       "      <td>285</td>\n",
       "      <td>280</td>\n",
       "      <td>753</td>\n",
       "      <td>0.447075</td>\n",
       "    </tr>\n",
       "    <tr>\n",
       "      <th>Oversampling</th>\n",
       "      <td>0.6</td>\n",
       "      <td>0.513369</td>\n",
       "      <td>0.553314</td>\n",
       "      <td>0.81</td>\n",
       "      <td>182</td>\n",
       "      <td>192</td>\n",
       "      <td>128</td>\n",
       "      <td>905</td>\n",
       "      <td>0.431452</td>\n",
       "    </tr>\n",
       "    <tr>\n",
       "      <th>Hybrid</th>\n",
       "      <td>NaN</td>\n",
       "      <td>NaN</td>\n",
       "      <td>NaN</td>\n",
       "      <td>NaN</td>\n",
       "      <td>NaN</td>\n",
       "      <td>NaN</td>\n",
       "      <td>NaN</td>\n",
       "      <td>NaN</td>\n",
       "      <td>NaN</td>\n",
       "    </tr>\n",
       "    <tr>\n",
       "      <th>Custom</th>\n",
       "      <td>NaN</td>\n",
       "      <td>NaN</td>\n",
       "      <td>NaN</td>\n",
       "      <td>NaN</td>\n",
       "      <td>NaN</td>\n",
       "      <td>NaN</td>\n",
       "      <td>NaN</td>\n",
       "      <td>NaN</td>\n",
       "      <td>NaN</td>\n",
       "    </tr>\n",
       "  </tbody>\n",
       "</table>\n",
       "</div>"
      ],
      "text/plain": [
       "              Pos_Precision Pos_Recall    Pos_F1 ROC AUC   FN   TP   FP   TN  \\\n",
       "Undersampling      0.504425   0.762032  0.607029    0.81   89  285  280  753   \n",
       "Oversampling            0.6   0.513369  0.553314    0.81  182  192  128  905   \n",
       "Hybrid                  NaN        NaN       NaN     NaN  NaN  NaN  NaN  NaN   \n",
       "Custom                  NaN        NaN       NaN     NaN  NaN  NaN  NaN  NaN   \n",
       "\n",
       "              Precision_at_Recall  \n",
       "Undersampling            0.447075  \n",
       "Oversampling             0.431452  \n",
       "Hybrid                        NaN  \n",
       "Custom                        NaN  "
      ]
     },
     "execution_count": 15,
     "metadata": {},
     "output_type": "execute_result"
    }
   ],
   "source": [
    "sampling_strategy_metrics_df"
   ]
  },
  {
   "cell_type": "markdown",
   "metadata": {},
   "source": [
    "This is also better than the baseline model"
   ]
  },
  {
   "cell_type": "markdown",
   "metadata": {},
   "source": [
    "Next, we are going to explore how the performance is affected if we go with a combination of upsampling and undersampling"
   ]
  },
  {
   "cell_type": "markdown",
   "metadata": {},
   "source": [
    "#### <a id = 423>Resampling Method3: Hybrid Oversampling and Undersampling using SMOTEENN"
   ]
  },
  {
   "cell_type": "markdown",
   "metadata": {},
   "source": [
    "We are going to explore a strategy known as SMOTEENN\n",
    "which combines the now-familiar SMOTE upsampling technique with ENN undersampling\n",
    "https://imbalanced-learn.readthedocs.io/en/stable/api.html#module-imblearn.combine\n",
    "\n",
    "\n",
    "ENN is Edited Nearest Neighbors which first oversamples both the minority and majority class until they are balanced.\n",
    "Then the Tomek links are removed. This prevents the majority class from 'intruding' too deep into the minority class space\n",
    "This is explained in the following paper https://pdfs.semanticscholar.org/c1a9/5197e15fa99f55cd0cb2ee14d2f02699a919.pdf\n",
    "\n",
    "the original description of Tomek links is given in the IEEE paper from 1976\n",
    "https://ieeexplore.ieee.org/stamp/stamp.jsp?tp=&arnumber=4309452"
   ]
  },
  {
   "cell_type": "code",
   "execution_count": 16,
   "metadata": {},
   "outputs": [
    {
     "name": "stdout",
     "output_type": "stream",
     "text": [
      "The size of the resampled train sets are as follows:\n",
      "(4711, 19) 2547\n",
      "Has a Test accuracy of 77.0 % \n",
      "              precision    recall  f1-score   support\n",
      "\n",
      "          No       0.88      0.78      0.83      1033\n",
      "         Yes       0.54      0.72      0.62       374\n",
      "\n",
      "    accuracy                           0.77      1407\n",
      "   macro avg       0.71      0.75      0.72      1407\n",
      "weighted avg       0.79      0.77      0.77      1407\n",
      "\n",
      "The ROC AUC Score on Test set is 0.82\n",
      "Confusion matrix, without normalization\n",
      "[[809 224]\n",
      " [106 268]]\n"
     ]
    },
    {
     "data": {
      "image/png": "[encoded data removed]",
      "text/plain": [
       "<Figure size 720x432 with 1 Axes>"
      ]
     },
     "metadata": {},
     "output_type": "display_data"
    },
    {
     "data": {
      "image/png": "[encoded data removed]",
      "text/plain": [
       "<Figure size 576x288 with 2 Axes>"
      ]
     },
     "metadata": {},
     "output_type": "display_data"
    }
   ],
   "source": [
    "from imblearn.combine import SMOTEENN\n",
    "\n",
    "# Note that unlike the previous 2 methods, SMOTEENN comes with the param for the sampling_strategy.\n",
    "# The default is auto' which will select the minority class only but I chose to resample both classes\n",
    "\n",
    "_,__, sampling_strategy_metrics_df.loc['Hybrid'] = resample_and_test_performance_function(\n",
    "SMOTEENN(sampling_strategy = 'all' ,random_state=42), X_train, y_train, X_test, y_test, labels)\n",
    "\n",
    "# Unlike the other resampling strategies, the resampled data size isnt easy to infer from the original data size"
   ]
  },
  {
   "cell_type": "code",
   "execution_count": 17,
   "metadata": {},
   "outputs": [
    {
     "data": {
      "text/html": [
       "<div>\n",
       "<style scoped>\n",
       "    .dataframe tbody tr th:only-of-type {\n",
       "        vertical-align: middle;\n",
       "    }\n",
       "\n",
       "    .dataframe tbody tr th {\n",
       "        vertical-align: top;\n",
       "    }\n",
       "\n",
       "    .dataframe thead th {\n",
       "        text-align: right;\n",
       "    }\n",
       "</style>\n",
       "<table border=\"1\" class=\"dataframe\">\n",
       "  <thead>\n",
       "    <tr style=\"text-align: right;\">\n",
       "      <th></th>\n",
       "      <th>Pos_Precision</th>\n",
       "      <th>Pos_Recall</th>\n",
       "      <th>Pos_F1</th>\n",
       "      <th>ROC AUC</th>\n",
       "      <th>FN</th>\n",
       "      <th>TP</th>\n",
       "      <th>FP</th>\n",
       "      <th>TN</th>\n",
       "      <th>Precision_at_Recall</th>\n",
       "    </tr>\n",
       "  </thead>\n",
       "  <tbody>\n",
       "    <tr>\n",
       "      <th>Undersampling</th>\n",
       "      <td>0.504425</td>\n",
       "      <td>0.762032</td>\n",
       "      <td>0.607029</td>\n",
       "      <td>0.81</td>\n",
       "      <td>89</td>\n",
       "      <td>285</td>\n",
       "      <td>280</td>\n",
       "      <td>753</td>\n",
       "      <td>0.447075</td>\n",
       "    </tr>\n",
       "    <tr>\n",
       "      <th>Oversampling</th>\n",
       "      <td>0.6</td>\n",
       "      <td>0.513369</td>\n",
       "      <td>0.553314</td>\n",
       "      <td>0.81</td>\n",
       "      <td>182</td>\n",
       "      <td>192</td>\n",
       "      <td>128</td>\n",
       "      <td>905</td>\n",
       "      <td>0.431452</td>\n",
       "    </tr>\n",
       "    <tr>\n",
       "      <th>Hybrid</th>\n",
       "      <td>0.544715</td>\n",
       "      <td>0.716578</td>\n",
       "      <td>0.618938</td>\n",
       "      <td>0.82</td>\n",
       "      <td>106</td>\n",
       "      <td>268</td>\n",
       "      <td>224</td>\n",
       "      <td>809</td>\n",
       "      <td>0.47392</td>\n",
       "    </tr>\n",
       "    <tr>\n",
       "      <th>Custom</th>\n",
       "      <td>NaN</td>\n",
       "      <td>NaN</td>\n",
       "      <td>NaN</td>\n",
       "      <td>NaN</td>\n",
       "      <td>NaN</td>\n",
       "      <td>NaN</td>\n",
       "      <td>NaN</td>\n",
       "      <td>NaN</td>\n",
       "      <td>NaN</td>\n",
       "    </tr>\n",
       "  </tbody>\n",
       "</table>\n",
       "</div>"
      ],
      "text/plain": [
       "              Pos_Precision Pos_Recall    Pos_F1 ROC AUC   FN   TP   FP   TN  \\\n",
       "Undersampling      0.504425   0.762032  0.607029    0.81   89  285  280  753   \n",
       "Oversampling            0.6   0.513369  0.553314    0.81  182  192  128  905   \n",
       "Hybrid             0.544715   0.716578  0.618938    0.82  106  268  224  809   \n",
       "Custom                  NaN        NaN       NaN     NaN  NaN  NaN  NaN  NaN   \n",
       "\n",
       "              Precision_at_Recall  \n",
       "Undersampling            0.447075  \n",
       "Oversampling             0.431452  \n",
       "Hybrid                    0.47392  \n",
       "Custom                        NaN  "
      ]
     },
     "execution_count": 17,
     "metadata": {},
     "output_type": "execute_result"
    }
   ],
   "source": [
    "sampling_strategy_metrics_df"
   ]
  },
  {
   "cell_type": "markdown",
   "metadata": {},
   "source": [
    "This is better than the other two resampling techniques"
   ]
  },
  {
   "cell_type": "markdown",
   "metadata": {},
   "source": [
    "#### <a id = 424>Resampling Method4: Custom function to oversample at different rates"
   ]
  },
  {
   "cell_type": "code",
   "execution_count": 18,
   "metadata": {},
   "outputs": [],
   "source": [
    "# The generalized version of the oversampling is when we simultaneously upsample both the classes at different rates"
   ]
  },
  {
   "cell_type": "code",
   "execution_count": 19,
   "metadata": {},
   "outputs": [
    {
     "name": "stdout",
     "output_type": "stream",
     "text": [
      "(14240, 19) 5980.0\n"
     ]
    }
   ],
   "source": [
    "from helper_functions_comprehensive import augment_data_function\n",
    "X_resampled_train, y_resampled_train = augment_data_function(X_train, y_train, \n",
    "                    positive_upsampling_ratio=4, negative_upsampling_ratio=2)\n",
    "print(X_resampled_train.shape,sum(y_resampled_train))"
   ]
  },
  {
   "cell_type": "code",
   "execution_count": 20,
   "metadata": {},
   "outputs": [
    {
     "name": "stdout",
     "output_type": "stream",
     "text": [
      "Has a Test accuracy of 77.0 % \n",
      "              precision    recall  f1-score   support\n",
      "\n",
      "          No       0.85      0.83      0.84      1033\n",
      "         Yes       0.56      0.60      0.58       374\n",
      "\n",
      "    accuracy                           0.77      1407\n",
      "   macro avg       0.71      0.71      0.71      1407\n",
      "weighted avg       0.77      0.77      0.77      1407\n",
      "\n",
      "The ROC AUC Score on Test set is 0.81\n",
      "Confusion matrix, without normalization\n",
      "[[857 176]\n",
      " [150 224]]\n"
     ]
    },
    {
     "data": {
      "image/png": "[encoded data removed]",
      "text/plain": [
       "<Figure size 720x432 with 1 Axes>"
      ]
     },
     "metadata": {},
     "output_type": "display_data"
    },
    {
     "data": {
      "image/png": "[encoded data removed]",
      "text/plain": [
       "<Figure size 576x288 with 2 Axes>"
      ]
     },
     "metadata": {},
     "output_type": "display_data"
    }
   ],
   "source": [
    "from helper_functions_comprehensive import test_rf_performance_function\n",
    "sampling_strategy_metrics_df.loc['Custom'] = test_rf_performance_function(\n",
    "            X_resampled_train, y_resampled_train, X_test, y_test, labels)"
   ]
  },
  {
   "cell_type": "code",
   "execution_count": 21,
   "metadata": {},
   "outputs": [
    {
     "data": {
      "text/html": [
       "<div>\n",
       "<style scoped>\n",
       "    .dataframe tbody tr th:only-of-type {\n",
       "        vertical-align: middle;\n",
       "    }\n",
       "\n",
       "    .dataframe tbody tr th {\n",
       "        vertical-align: top;\n",
       "    }\n",
       "\n",
       "    .dataframe thead th {\n",
       "        text-align: right;\n",
       "    }\n",
       "</style>\n",
       "<table border=\"1\" class=\"dataframe\">\n",
       "  <thead>\n",
       "    <tr style=\"text-align: right;\">\n",
       "      <th></th>\n",
       "      <th>Pos_Precision</th>\n",
       "      <th>Pos_Recall</th>\n",
       "      <th>Pos_F1</th>\n",
       "      <th>ROC AUC</th>\n",
       "      <th>FN</th>\n",
       "      <th>TP</th>\n",
       "      <th>FP</th>\n",
       "      <th>TN</th>\n",
       "      <th>Precision_at_Recall</th>\n",
       "    </tr>\n",
       "  </thead>\n",
       "  <tbody>\n",
       "    <tr>\n",
       "      <th>Undersampling</th>\n",
       "      <td>0.504425</td>\n",
       "      <td>0.762032</td>\n",
       "      <td>0.607029</td>\n",
       "      <td>0.81</td>\n",
       "      <td>89</td>\n",
       "      <td>285</td>\n",
       "      <td>280</td>\n",
       "      <td>753</td>\n",
       "      <td>0.447075</td>\n",
       "    </tr>\n",
       "    <tr>\n",
       "      <th>Oversampling</th>\n",
       "      <td>0.6</td>\n",
       "      <td>0.513369</td>\n",
       "      <td>0.553314</td>\n",
       "      <td>0.81</td>\n",
       "      <td>182</td>\n",
       "      <td>192</td>\n",
       "      <td>128</td>\n",
       "      <td>905</td>\n",
       "      <td>0.431452</td>\n",
       "    </tr>\n",
       "    <tr>\n",
       "      <th>Hybrid</th>\n",
       "      <td>0.544715</td>\n",
       "      <td>0.716578</td>\n",
       "      <td>0.618938</td>\n",
       "      <td>0.82</td>\n",
       "      <td>106</td>\n",
       "      <td>268</td>\n",
       "      <td>224</td>\n",
       "      <td>809</td>\n",
       "      <td>0.47392</td>\n",
       "    </tr>\n",
       "    <tr>\n",
       "      <th>Custom</th>\n",
       "      <td>0.56</td>\n",
       "      <td>0.59893</td>\n",
       "      <td>0.578811</td>\n",
       "      <td>0.81</td>\n",
       "      <td>150</td>\n",
       "      <td>224</td>\n",
       "      <td>176</td>\n",
       "      <td>857</td>\n",
       "      <td>0.43879</td>\n",
       "    </tr>\n",
       "  </tbody>\n",
       "</table>\n",
       "</div>"
      ],
      "text/plain": [
       "              Pos_Precision Pos_Recall    Pos_F1 ROC AUC   FN   TP   FP   TN  \\\n",
       "Undersampling      0.504425   0.762032  0.607029    0.81   89  285  280  753   \n",
       "Oversampling            0.6   0.513369  0.553314    0.81  182  192  128  905   \n",
       "Hybrid             0.544715   0.716578  0.618938    0.82  106  268  224  809   \n",
       "Custom                 0.56    0.59893  0.578811    0.81  150  224  176  857   \n",
       "\n",
       "              Precision_at_Recall  \n",
       "Undersampling            0.447075  \n",
       "Oversampling             0.431452  \n",
       "Hybrid                    0.47392  \n",
       "Custom                    0.43879  "
      ]
     },
     "execution_count": 21,
     "metadata": {},
     "output_type": "execute_result"
    }
   ],
   "source": [
    "sampling_strategy_metrics_df"
   ]
  },
  {
   "cell_type": "markdown",
   "metadata": {},
   "source": [
    "From now on choose the SMOTEENN"
   ]
  },
  {
   "cell_type": "markdown",
   "metadata": {},
   "source": [
    "### Next steps"
   ]
  },
  {
   "cell_type": "markdown",
   "metadata": {},
   "source": [
    "Now that we know what resampling technique to use and what is the benchmark performance to beat, lets bring back the raw dataset and clean it up"
   ]
  },
  {
   "cell_type": "markdown",
   "metadata": {},
   "source": [
    "The cleaning techniques will be kept only if they beat the performance above on the test set after resampling the train set"
   ]
  },
  {
   "cell_type": "markdown",
   "metadata": {},
   "source": [
    "## <a id = 5> Data Cleansing & EDA for ML Generalizability"
   ]
  },
  {
   "cell_type": "markdown",
   "metadata": {},
   "source": [
    "There is a very significant chunk of data munging about to be done here to increase the data quality"
   ]
  },
  {
   "cell_type": "markdown",
   "metadata": {},
   "source": [
    "### <a id = 51> Pre-cleaning setup"
   ]
  },
  {
   "cell_type": "markdown",
   "metadata": {},
   "source": [
    "To even get the data to a format where more complex imputation can be applied, we need to clean it first ! Note that these pre-cleaning steps can be done on the entire dataset safely without worrying about data leakage (unlike some of the steps that come later)"
   ]
  },
  {
   "cell_type": "markdown",
   "metadata": {},
   "source": [
    "So lets bring back the raw dataset and find the bad columns that need to be transformed"
   ]
  },
  {
   "cell_type": "markdown",
   "metadata": {},
   "source": [
    "#### <a id = 511> Identify bad columns"
   ]
  },
  {
   "cell_type": "code",
   "execution_count": 22,
   "metadata": {},
   "outputs": [
    {
     "name": "stdout",
     "output_type": "stream",
     "text": [
      "Identified 0 features with atleast one null\n",
      "Identified 1 features with atleast one blank space\n",
      "Identified 0 numeric features that have quasi-constant values\n",
      "Identified 0 non-numeric features that have quasi-constant values\n",
      "Identified 0 features that are duplicates of other features\n"
     ]
    }
   ],
   "source": [
    "from helper_functions_comprehensive import find_bad_columns_function\n",
    "\n",
    "null_col_list, blank_space_col_list, constant_numeric_col_list, \\\n",
    "constant_non_numeric_col_list, duplicate_col_list = find_bad_columns_function(df)"
   ]
  },
  {
   "cell_type": "markdown",
   "metadata": {},
   "source": [
    "#### <a id = 512>  Convert blanks to np.nan"
   ]
  },
  {
   "cell_type": "code",
   "execution_count": 23,
   "metadata": {},
   "outputs": [
    {
     "name": "stdout",
     "output_type": "stream",
     "text": [
      "There are 11 blanks in column TotalCharges\n",
      "After conversion, there are 0 blanks in column TotalCharges\n"
     ]
    }
   ],
   "source": [
    "# Entries where the boolean condition is False are replaced with np.nan\n",
    "\n",
    "for col in blank_space_col_list:\n",
    "    \n",
    "    print('There are {} blanks in column {}'.format((sum(df[col]==' ')), col))\n",
    "    \n",
    "    df[col].where(df[col]!=' ', other = np.nan, inplace = True)\n",
    "\n",
    "    print('After conversion, there are {} blanks in column {}'.format((sum(df[col]==' ')), col))"
   ]
  },
  {
   "cell_type": "markdown",
   "metadata": {},
   "source": [
    "#### <a id = 513> Convert data types - string to float"
   ]
  },
  {
   "cell_type": "code",
   "execution_count": 24,
   "metadata": {},
   "outputs": [
    {
     "data": {
      "text/plain": [
       "gender               object\n",
       "SeniorCitizen         int64\n",
       "Partner              object\n",
       "Dependents           object\n",
       "tenure                int64\n",
       "PhoneService         object\n",
       "MultipleLines        object\n",
       "InternetService      object\n",
       "OnlineSecurity       object\n",
       "OnlineBackup         object\n",
       "DeviceProtection     object\n",
       "TechSupport          object\n",
       "StreamingTV          object\n",
       "StreamingMovies      object\n",
       "Contract             object\n",
       "PaperlessBilling     object\n",
       "PaymentMethod        object\n",
       "MonthlyCharges      float64\n",
       "TotalCharges        float64\n",
       "Churn                object\n",
       "dtype: object"
      ]
     },
     "execution_count": 24,
     "metadata": {},
     "output_type": "execute_result"
    }
   ],
   "source": [
    "# Convert these columns to strings, ints or floats depending on domain knowledge and intuition\n",
    "\n",
    "destination_data_type_col_dict = {'TotalCharges':float}\n",
    "# Change the TotalCharges column into float from str    \n",
    "\n",
    "for col, data_type in destination_data_type_col_dict.items():\n",
    "    df[col] = df[col].astype(data_type)\n",
    "    \n",
    "df.dtypes\n",
    "# As seen below, the above columns have been successfully converted to the desired data types\n",
    "# The good thing about pandas is that nulls in otherwise numerical columns are treated as numbers"
   ]
  },
  {
   "cell_type": "markdown",
   "metadata": {},
   "source": [
    "#### <a id = 514> Update the bad columns lists"
   ]
  },
  {
   "cell_type": "code",
   "execution_count": 25,
   "metadata": {},
   "outputs": [
    {
     "name": "stdout",
     "output_type": "stream",
     "text": [
      "Identified 1 features with atleast one null\n",
      "Identified 0 features with atleast one blank space\n",
      "Identified 0 numeric features that have quasi-constant values\n",
      "Identified 0 non-numeric features that have quasi-constant values\n",
      "Identified 0 features that are duplicates of other features\n"
     ]
    }
   ],
   "source": [
    "null_col_list, blank_space_col_list, constant_numeric_col_list, \\\n",
    "constant_non_numeric_col_list, duplicate_col_list = find_bad_columns_function(df)\n",
    "\n",
    "# notice how there are no blanks anymore but instead we have the nulls?\n",
    "# null_col_list will be later used for adding a Missing Indicator boolean feature"
   ]
  },
  {
   "cell_type": "markdown",
   "metadata": {},
   "source": [
    "### <a id = 52> EDA for ML Generalizability"
   ]
  },
  {
   "cell_type": "markdown",
   "metadata": {},
   "source": [
    "This is the section where we deep dive into the data and do EDA. However I am only going to focus on the top features in the interests of time. The idea is to identify patterns in the data that will eventually make our model more powerful (either through Feature Engineering done in Day3 or removing data points because they are outliers which are unlikely to occur in Production data"
   ]
  },
  {
   "cell_type": "markdown",
   "metadata": {},
   "source": [
    "#### <a id = 521> Selecting top features - all numerical features"
   ]
  },
  {
   "cell_type": "markdown",
   "metadata": {},
   "source": [
    "For this dataset, since there are only 3 numerical features, there is no need to run a separate feature selection step for the numerical variables. We will hardcode these 3 features"
   ]
  },
  {
   "cell_type": "code",
   "execution_count": 26,
   "metadata": {},
   "outputs": [],
   "source": [
    "numeric_col_list = ['tenure','MonthlyCharges','TotalCharges']"
   ]
  },
  {
   "cell_type": "code",
   "execution_count": 27,
   "metadata": {},
   "outputs": [],
   "source": [
    "# Also the outlier detection and removal method that I followed assumes guassian distribution which is not true for anything. It maybe applicable to np.log(df['TotalCharges'])"
   ]
  },
  {
   "cell_type": "markdown",
   "metadata": {},
   "source": [
    "#### <a id = 522> EDA - Numerical Features"
   ]
  },
  {
   "cell_type": "markdown",
   "metadata": {},
   "source": [
    "This is meant to be the EDA section but we are going to just plot the distributions and display the rows in the dataframe where there are nulls to see if there is anything obvious"
   ]
  },
  {
   "cell_type": "markdown",
   "metadata": {},
   "source": [
    "#### Visualizing Distributions of top features"
   ]
  },
  {
   "cell_type": "code",
   "execution_count": 28,
   "metadata": {
    "scrolled": true
   },
   "outputs": [
    {
     "data": {
      "image/png": "[encoded data removed]",
      "text/plain": [
       "<Figure size 1152x576 with 3 Axes>"
      ]
     },
     "metadata": {},
     "output_type": "display_data"
    },
    {
     "data": {
      "image/png": "[encoded data removed]",
      "text/plain": [
       "<Figure size 1152x576 with 3 Axes>"
      ]
     },
     "metadata": {},
     "output_type": "display_data"
    },
    {
     "data": {
      "image/png": "[encoded data removed]",
      "text/plain": [
       "<Figure size 1152x576 with 3 Axes>"
      ]
     },
     "metadata": {},
     "output_type": "display_data"
    }
   ],
   "source": [
    "# use the cleaned dataframe from last week to plot the distribution if there are issues with df\n",
    "\n",
    "from helper_functions_comprehensive import numerical_distribution_function\n",
    "\n",
    "# I have established the bin sizes such that \n",
    "# approximately 50 points would fall in each bin if it was a uniform distribution \n",
    "# Play around with a few bin sizes to see if you see any patterns in the histogram\n",
    "no_of_bins = len(df)//50\n",
    "\n",
    "# Call the custom function to plot the histogram, boxplots and QQ Plots\n",
    "numerical_distribution_function(df[numeric_col_list], bins=no_of_bins)\n"
   ]
  },
  {
   "cell_type": "markdown",
   "metadata": {},
   "source": [
    "There is something unusual going on with the MonthlyCharges with 20 clusters seen, with each cluster occurring at intervals of 4. Its possible that despite being seemingly continuous variable, it can be converted to a categorical variable methods such as KMeans to cluster according to the median of each bin. We will explore that later in the notebook"
   ]
  },
  {
   "cell_type": "markdown",
   "metadata": {},
   "source": [
    "Notice how the TotalCharges is a long tail distribution? We will use log transformation in another week to normalize this\n"
   ]
  },
  {
   "cell_type": "markdown",
   "metadata": {},
   "source": [
    "#### Checking out null values"
   ]
  },
  {
   "cell_type": "code",
   "execution_count": 29,
   "metadata": {},
   "outputs": [
    {
     "data": {
      "text/html": [
       "<div>\n",
       "<style scoped>\n",
       "    .dataframe tbody tr th:only-of-type {\n",
       "        vertical-align: middle;\n",
       "    }\n",
       "\n",
       "    .dataframe tbody tr th {\n",
       "        vertical-align: top;\n",
       "    }\n",
       "\n",
       "    .dataframe thead th {\n",
       "        text-align: right;\n",
       "    }\n",
       "</style>\n",
       "<table border=\"1\" class=\"dataframe\">\n",
       "  <thead>\n",
       "    <tr style=\"text-align: right;\">\n",
       "      <th></th>\n",
       "      <th>gender</th>\n",
       "      <th>SeniorCitizen</th>\n",
       "      <th>Partner</th>\n",
       "      <th>Dependents</th>\n",
       "      <th>tenure</th>\n",
       "      <th>PhoneService</th>\n",
       "      <th>MultipleLines</th>\n",
       "      <th>InternetService</th>\n",
       "      <th>OnlineSecurity</th>\n",
       "      <th>OnlineBackup</th>\n",
       "      <th>DeviceProtection</th>\n",
       "      <th>TechSupport</th>\n",
       "      <th>StreamingTV</th>\n",
       "      <th>StreamingMovies</th>\n",
       "      <th>Contract</th>\n",
       "      <th>PaperlessBilling</th>\n",
       "      <th>PaymentMethod</th>\n",
       "      <th>MonthlyCharges</th>\n",
       "      <th>TotalCharges</th>\n",
       "      <th>Churn</th>\n",
       "    </tr>\n",
       "    <tr>\n",
       "      <th>customerID</th>\n",
       "      <th></th>\n",
       "      <th></th>\n",
       "      <th></th>\n",
       "      <th></th>\n",
       "      <th></th>\n",
       "      <th></th>\n",
       "      <th></th>\n",
       "      <th></th>\n",
       "      <th></th>\n",
       "      <th></th>\n",
       "      <th></th>\n",
       "      <th></th>\n",
       "      <th></th>\n",
       "      <th></th>\n",
       "      <th></th>\n",
       "      <th></th>\n",
       "      <th></th>\n",
       "      <th></th>\n",
       "      <th></th>\n",
       "      <th></th>\n",
       "    </tr>\n",
       "  </thead>\n",
       "  <tbody>\n",
       "    <tr>\n",
       "      <th>4472-LVYGI</th>\n",
       "      <td>Female</td>\n",
       "      <td>0</td>\n",
       "      <td>Yes</td>\n",
       "      <td>Yes</td>\n",
       "      <td>0</td>\n",
       "      <td>No</td>\n",
       "      <td>No phone service</td>\n",
       "      <td>DSL</td>\n",
       "      <td>Yes</td>\n",
       "      <td>No</td>\n",
       "      <td>Yes</td>\n",
       "      <td>Yes</td>\n",
       "      <td>Yes</td>\n",
       "      <td>No</td>\n",
       "      <td>Two year</td>\n",
       "      <td>Yes</td>\n",
       "      <td>Bank transfer (automatic)</td>\n",
       "      <td>52.55</td>\n",
       "      <td>NaN</td>\n",
       "      <td>No</td>\n",
       "    </tr>\n",
       "    <tr>\n",
       "      <th>3115-CZMZD</th>\n",
       "      <td>Male</td>\n",
       "      <td>0</td>\n",
       "      <td>No</td>\n",
       "      <td>Yes</td>\n",
       "      <td>0</td>\n",
       "      <td>Yes</td>\n",
       "      <td>No</td>\n",
       "      <td>No</td>\n",
       "      <td>No internet service</td>\n",
       "      <td>No internet service</td>\n",
       "      <td>No internet service</td>\n",
       "      <td>No internet service</td>\n",
       "      <td>No internet service</td>\n",
       "      <td>No internet service</td>\n",
       "      <td>Two year</td>\n",
       "      <td>No</td>\n",
       "      <td>Mailed check</td>\n",
       "      <td>20.25</td>\n",
       "      <td>NaN</td>\n",
       "      <td>No</td>\n",
       "    </tr>\n",
       "    <tr>\n",
       "      <th>5709-LVOEQ</th>\n",
       "      <td>Female</td>\n",
       "      <td>0</td>\n",
       "      <td>Yes</td>\n",
       "      <td>Yes</td>\n",
       "      <td>0</td>\n",
       "      <td>Yes</td>\n",
       "      <td>No</td>\n",
       "      <td>DSL</td>\n",
       "      <td>Yes</td>\n",
       "      <td>Yes</td>\n",
       "      <td>Yes</td>\n",
       "      <td>No</td>\n",
       "      <td>Yes</td>\n",
       "      <td>Yes</td>\n",
       "      <td>Two year</td>\n",
       "      <td>No</td>\n",
       "      <td>Mailed check</td>\n",
       "      <td>80.85</td>\n",
       "      <td>NaN</td>\n",
       "      <td>No</td>\n",
       "    </tr>\n",
       "    <tr>\n",
       "      <th>4367-NUYAO</th>\n",
       "      <td>Male</td>\n",
       "      <td>0</td>\n",
       "      <td>Yes</td>\n",
       "      <td>Yes</td>\n",
       "      <td>0</td>\n",
       "      <td>Yes</td>\n",
       "      <td>Yes</td>\n",
       "      <td>No</td>\n",
       "      <td>No internet service</td>\n",
       "      <td>No internet service</td>\n",
       "      <td>No internet service</td>\n",
       "      <td>No internet service</td>\n",
       "      <td>No internet service</td>\n",
       "      <td>No internet service</td>\n",
       "      <td>Two year</td>\n",
       "      <td>No</td>\n",
       "      <td>Mailed check</td>\n",
       "      <td>25.75</td>\n",
       "      <td>NaN</td>\n",
       "      <td>No</td>\n",
       "    </tr>\n",
       "    <tr>\n",
       "      <th>1371-DWPAZ</th>\n",
       "      <td>Female</td>\n",
       "      <td>0</td>\n",
       "      <td>Yes</td>\n",
       "      <td>Yes</td>\n",
       "      <td>0</td>\n",
       "      <td>No</td>\n",
       "      <td>No phone service</td>\n",
       "      <td>DSL</td>\n",
       "      <td>Yes</td>\n",
       "      <td>Yes</td>\n",
       "      <td>Yes</td>\n",
       "      <td>Yes</td>\n",
       "      <td>Yes</td>\n",
       "      <td>No</td>\n",
       "      <td>Two year</td>\n",
       "      <td>No</td>\n",
       "      <td>Credit card (automatic)</td>\n",
       "      <td>56.05</td>\n",
       "      <td>NaN</td>\n",
       "      <td>No</td>\n",
       "    </tr>\n",
       "    <tr>\n",
       "      <th>7644-OMVMY</th>\n",
       "      <td>Male</td>\n",
       "      <td>0</td>\n",
       "      <td>Yes</td>\n",
       "      <td>Yes</td>\n",
       "      <td>0</td>\n",
       "      <td>Yes</td>\n",
       "      <td>No</td>\n",
       "      <td>No</td>\n",
       "      <td>No internet service</td>\n",
       "      <td>No internet service</td>\n",
       "      <td>No internet service</td>\n",
       "      <td>No internet service</td>\n",
       "      <td>No internet service</td>\n",
       "      <td>No internet service</td>\n",
       "      <td>Two year</td>\n",
       "      <td>No</td>\n",
       "      <td>Mailed check</td>\n",
       "      <td>19.85</td>\n",
       "      <td>NaN</td>\n",
       "      <td>No</td>\n",
       "    </tr>\n",
       "    <tr>\n",
       "      <th>3213-VVOLG</th>\n",
       "      <td>Male</td>\n",
       "      <td>0</td>\n",
       "      <td>Yes</td>\n",
       "      <td>Yes</td>\n",
       "      <td>0</td>\n",
       "      <td>Yes</td>\n",
       "      <td>Yes</td>\n",
       "      <td>No</td>\n",
       "      <td>No internet service</td>\n",
       "      <td>No internet service</td>\n",
       "      <td>No internet service</td>\n",
       "      <td>No internet service</td>\n",
       "      <td>No internet service</td>\n",
       "      <td>No internet service</td>\n",
       "      <td>Two year</td>\n",
       "      <td>No</td>\n",
       "      <td>Mailed check</td>\n",
       "      <td>25.35</td>\n",
       "      <td>NaN</td>\n",
       "      <td>No</td>\n",
       "    </tr>\n",
       "    <tr>\n",
       "      <th>2520-SGTTA</th>\n",
       "      <td>Female</td>\n",
       "      <td>0</td>\n",
       "      <td>Yes</td>\n",
       "      <td>Yes</td>\n",
       "      <td>0</td>\n",
       "      <td>Yes</td>\n",
       "      <td>No</td>\n",
       "      <td>No</td>\n",
       "      <td>No internet service</td>\n",
       "      <td>No internet service</td>\n",
       "      <td>No internet service</td>\n",
       "      <td>No internet service</td>\n",
       "      <td>No internet service</td>\n",
       "      <td>No internet service</td>\n",
       "      <td>Two year</td>\n",
       "      <td>No</td>\n",
       "      <td>Mailed check</td>\n",
       "      <td>20.00</td>\n",
       "      <td>NaN</td>\n",
       "      <td>No</td>\n",
       "    </tr>\n",
       "    <tr>\n",
       "      <th>2923-ARZLG</th>\n",
       "      <td>Male</td>\n",
       "      <td>0</td>\n",
       "      <td>Yes</td>\n",
       "      <td>Yes</td>\n",
       "      <td>0</td>\n",
       "      <td>Yes</td>\n",
       "      <td>No</td>\n",
       "      <td>No</td>\n",
       "      <td>No internet service</td>\n",
       "      <td>No internet service</td>\n",
       "      <td>No internet service</td>\n",
       "      <td>No internet service</td>\n",
       "      <td>No internet service</td>\n",
       "      <td>No internet service</td>\n",
       "      <td>One year</td>\n",
       "      <td>Yes</td>\n",
       "      <td>Mailed check</td>\n",
       "      <td>19.70</td>\n",
       "      <td>NaN</td>\n",
       "      <td>No</td>\n",
       "    </tr>\n",
       "    <tr>\n",
       "      <th>4075-WKNIU</th>\n",
       "      <td>Female</td>\n",
       "      <td>0</td>\n",
       "      <td>Yes</td>\n",
       "      <td>Yes</td>\n",
       "      <td>0</td>\n",
       "      <td>Yes</td>\n",
       "      <td>Yes</td>\n",
       "      <td>DSL</td>\n",
       "      <td>No</td>\n",
       "      <td>Yes</td>\n",
       "      <td>Yes</td>\n",
       "      <td>Yes</td>\n",
       "      <td>Yes</td>\n",
       "      <td>No</td>\n",
       "      <td>Two year</td>\n",
       "      <td>No</td>\n",
       "      <td>Mailed check</td>\n",
       "      <td>73.35</td>\n",
       "      <td>NaN</td>\n",
       "      <td>No</td>\n",
       "    </tr>\n",
       "    <tr>\n",
       "      <th>2775-SEFEE</th>\n",
       "      <td>Male</td>\n",
       "      <td>0</td>\n",
       "      <td>No</td>\n",
       "      <td>Yes</td>\n",
       "      <td>0</td>\n",
       "      <td>Yes</td>\n",
       "      <td>Yes</td>\n",
       "      <td>DSL</td>\n",
       "      <td>Yes</td>\n",
       "      <td>Yes</td>\n",
       "      <td>No</td>\n",
       "      <td>Yes</td>\n",
       "      <td>No</td>\n",
       "      <td>No</td>\n",
       "      <td>Two year</td>\n",
       "      <td>Yes</td>\n",
       "      <td>Bank transfer (automatic)</td>\n",
       "      <td>61.90</td>\n",
       "      <td>NaN</td>\n",
       "      <td>No</td>\n",
       "    </tr>\n",
       "  </tbody>\n",
       "</table>\n",
       "</div>"
      ],
      "text/plain": [
       "            gender  SeniorCitizen Partner Dependents  tenure PhoneService  \\\n",
       "customerID                                                                  \n",
       "4472-LVYGI  Female              0     Yes        Yes       0           No   \n",
       "3115-CZMZD    Male              0      No        Yes       0          Yes   \n",
       "5709-LVOEQ  Female              0     Yes        Yes       0          Yes   \n",
       "4367-NUYAO    Male              0     Yes        Yes       0          Yes   \n",
       "1371-DWPAZ  Female              0     Yes        Yes       0           No   \n",
       "7644-OMVMY    Male              0     Yes        Yes       0          Yes   \n",
       "3213-VVOLG    Male              0     Yes        Yes       0          Yes   \n",
       "2520-SGTTA  Female              0     Yes        Yes       0          Yes   \n",
       "2923-ARZLG    Male              0     Yes        Yes       0          Yes   \n",
       "4075-WKNIU  Female              0     Yes        Yes       0          Yes   \n",
       "2775-SEFEE    Male              0      No        Yes       0          Yes   \n",
       "\n",
       "               MultipleLines InternetService       OnlineSecurity  \\\n",
       "customerID                                                          \n",
       "4472-LVYGI  No phone service             DSL                  Yes   \n",
       "3115-CZMZD                No              No  No internet service   \n",
       "5709-LVOEQ                No             DSL                  Yes   \n",
       "4367-NUYAO               Yes              No  No internet service   \n",
       "1371-DWPAZ  No phone service             DSL                  Yes   \n",
       "7644-OMVMY                No              No  No internet service   \n",
       "3213-VVOLG               Yes              No  No internet service   \n",
       "2520-SGTTA                No              No  No internet service   \n",
       "2923-ARZLG                No              No  No internet service   \n",
       "4075-WKNIU               Yes             DSL                   No   \n",
       "2775-SEFEE               Yes             DSL                  Yes   \n",
       "\n",
       "                   OnlineBackup     DeviceProtection          TechSupport  \\\n",
       "customerID                                                                  \n",
       "4472-LVYGI                   No                  Yes                  Yes   \n",
       "3115-CZMZD  No internet service  No internet service  No internet service   \n",
       "5709-LVOEQ                  Yes                  Yes                   No   \n",
       "4367-NUYAO  No internet service  No internet service  No internet service   \n",
       "1371-DWPAZ                  Yes                  Yes                  Yes   \n",
       "7644-OMVMY  No internet service  No internet service  No internet service   \n",
       "3213-VVOLG  No internet service  No internet service  No internet service   \n",
       "2520-SGTTA  No internet service  No internet service  No internet service   \n",
       "2923-ARZLG  No internet service  No internet service  No internet service   \n",
       "4075-WKNIU                  Yes                  Yes                  Yes   \n",
       "2775-SEFEE                  Yes                   No                  Yes   \n",
       "\n",
       "                    StreamingTV      StreamingMovies  Contract  \\\n",
       "customerID                                                       \n",
       "4472-LVYGI                  Yes                   No  Two year   \n",
       "3115-CZMZD  No internet service  No internet service  Two year   \n",
       "5709-LVOEQ                  Yes                  Yes  Two year   \n",
       "4367-NUYAO  No internet service  No internet service  Two year   \n",
       "1371-DWPAZ                  Yes                   No  Two year   \n",
       "7644-OMVMY  No internet service  No internet service  Two year   \n",
       "3213-VVOLG  No internet service  No internet service  Two year   \n",
       "2520-SGTTA  No internet service  No internet service  Two year   \n",
       "2923-ARZLG  No internet service  No internet service  One year   \n",
       "4075-WKNIU                  Yes                   No  Two year   \n",
       "2775-SEFEE                   No                   No  Two year   \n",
       "\n",
       "           PaperlessBilling              PaymentMethod  MonthlyCharges  \\\n",
       "customerID                                                               \n",
       "4472-LVYGI              Yes  Bank transfer (automatic)           52.55   \n",
       "3115-CZMZD               No               Mailed check           20.25   \n",
       "5709-LVOEQ               No               Mailed check           80.85   \n",
       "4367-NUYAO               No               Mailed check           25.75   \n",
       "1371-DWPAZ               No    Credit card (automatic)           56.05   \n",
       "7644-OMVMY               No               Mailed check           19.85   \n",
       "3213-VVOLG               No               Mailed check           25.35   \n",
       "2520-SGTTA               No               Mailed check           20.00   \n",
       "2923-ARZLG              Yes               Mailed check           19.70   \n",
       "4075-WKNIU               No               Mailed check           73.35   \n",
       "2775-SEFEE              Yes  Bank transfer (automatic)           61.90   \n",
       "\n",
       "            TotalCharges Churn  \n",
       "customerID                      \n",
       "4472-LVYGI           NaN    No  \n",
       "3115-CZMZD           NaN    No  \n",
       "5709-LVOEQ           NaN    No  \n",
       "4367-NUYAO           NaN    No  \n",
       "1371-DWPAZ           NaN    No  \n",
       "7644-OMVMY           NaN    No  \n",
       "3213-VVOLG           NaN    No  \n",
       "2520-SGTTA           NaN    No  \n",
       "2923-ARZLG           NaN    No  \n",
       "4075-WKNIU           NaN    No  \n",
       "2775-SEFEE           NaN    No  "
      ]
     },
     "execution_count": 29,
     "metadata": {},
     "output_type": "execute_result"
    }
   ],
   "source": [
    "df[pd.isnull(df['TotalCharges'])]\n",
    "# there is nothing obvious from the data apart from all the rows not having churn. \n",
    "#Given there are only 11 rows in the dataset, not sure if any conclusions could have been drawn anyway"
   ]
  },
  {
   "cell_type": "markdown",
   "metadata": {},
   "source": [
    "#### <a id = 523> Outlier Definition, Detection & Removal"
   ]
  },
  {
   "cell_type": "markdown",
   "metadata": {},
   "source": [
    "There are various qualitative and quantitative methods of defining outliers depending on the use case"
   ]
  },
  {
   "cell_type": "markdown",
   "metadata": {},
   "source": [
    "\n",
    "Its not exactly obvious what constitutes an outlier, so we will keep all of the points rather than use the Z score or IQR method both of which need a gaussian distribution. In real life you would discuss with the business on what these distributions imply"
   ]
  },
  {
   "cell_type": "markdown",
   "metadata": {},
   "source": [
    "## <a id='6'> Data Signal Amplification"
   ]
  },
  {
   "cell_type": "markdown",
   "metadata": {},
   "source": [
    "### <a id = 61 > Data Prep - Feature Target & Train Test Split"
   ]
  },
  {
   "cell_type": "markdown",
   "metadata": {},
   "source": [
    "Before we do any imputation or transformation, we should split it. This ensures that we are fitting with training data and transforming on the test data"
   ]
  },
  {
   "cell_type": "code",
   "execution_count": 30,
   "metadata": {},
   "outputs": [],
   "source": [
    "X = df.drop(target_class_name, axis=1)\n",
    "y = df[target_class_name]\n",
    "\n",
    "# split into train and test set \n",
    "from sklearn.model_selection import train_test_split\n",
    "X_train, X_test, y_train, y_test = train_test_split(X, y, test_size=0.2, random_state=42)\n",
    "\n",
    "# Note optionally convert the pandas dataframe into a numpy array using to_numpy if you have a big data\n",
    "# and want to model faster. Otherwise it doesnt matter which data structure you use"
   ]
  },
  {
   "cell_type": "markdown",
   "metadata": {},
   "source": [
    "### <a id='62'>Handling Null Values</a> "
   ]
  },
  {
   "cell_type": "markdown",
   "metadata": {},
   "source": [
    "Handling Null Values gets its own section because it is both common and painful enough for all Data Scientists. Ideally the EDA process should give you insights on what the null values are and what needs to be done"
   ]
  },
  {
   "cell_type": "markdown",
   "metadata": {},
   "source": [
    "Make sure to introduce the binary indicator before any imputation otherwise we will lose information about the missingness. \n",
    "This imputation syntax should work for all column types (num, cat, etc) as long as you have turned any weird values into nulls and they are within the null_col_list"
   ]
  },
  {
   "cell_type": "markdown",
   "metadata": {},
   "source": [
    "#### <a id='621'>Pre-Imputation"
   ]
  },
  {
   "cell_type": "markdown",
   "metadata": {},
   "source": [
    "#### - Introduce MissingIndicator column"
   ]
  },
  {
   "cell_type": "code",
   "execution_count": 31,
   "metadata": {},
   "outputs": [],
   "source": [
    "# Note: to do ad-hoc creation of columns, we can also alternatively use \n",
    "# df[col+'_na']=np.where(df[col].isnull(),1,0) \n",
    "# But this wont be scalable when creating pipelines unless you are willing to write custom classes"
   ]
  },
  {
   "cell_type": "code",
   "execution_count": 32,
   "metadata": {},
   "outputs": [
    {
     "data": {
      "text/html": [
       "<div>\n",
       "<style scoped>\n",
       "    .dataframe tbody tr th:only-of-type {\n",
       "        vertical-align: middle;\n",
       "    }\n",
       "\n",
       "    .dataframe tbody tr th {\n",
       "        vertical-align: top;\n",
       "    }\n",
       "\n",
       "    .dataframe thead th {\n",
       "        text-align: right;\n",
       "    }\n",
       "</style>\n",
       "<table border=\"1\" class=\"dataframe\">\n",
       "  <thead>\n",
       "    <tr style=\"text-align: right;\">\n",
       "      <th></th>\n",
       "      <th>gender</th>\n",
       "      <th>SeniorCitizen</th>\n",
       "      <th>Partner</th>\n",
       "      <th>Dependents</th>\n",
       "      <th>tenure</th>\n",
       "      <th>PhoneService</th>\n",
       "      <th>MultipleLines</th>\n",
       "      <th>InternetService</th>\n",
       "      <th>OnlineSecurity</th>\n",
       "      <th>OnlineBackup</th>\n",
       "      <th>DeviceProtection</th>\n",
       "      <th>TechSupport</th>\n",
       "      <th>StreamingTV</th>\n",
       "      <th>StreamingMovies</th>\n",
       "      <th>Contract</th>\n",
       "      <th>PaperlessBilling</th>\n",
       "      <th>PaymentMethod</th>\n",
       "      <th>MonthlyCharges</th>\n",
       "      <th>TotalCharges</th>\n",
       "      <th>TotalCharges_na</th>\n",
       "    </tr>\n",
       "    <tr>\n",
       "      <th>customerID</th>\n",
       "      <th></th>\n",
       "      <th></th>\n",
       "      <th></th>\n",
       "      <th></th>\n",
       "      <th></th>\n",
       "      <th></th>\n",
       "      <th></th>\n",
       "      <th></th>\n",
       "      <th></th>\n",
       "      <th></th>\n",
       "      <th></th>\n",
       "      <th></th>\n",
       "      <th></th>\n",
       "      <th></th>\n",
       "      <th></th>\n",
       "      <th></th>\n",
       "      <th></th>\n",
       "      <th></th>\n",
       "      <th></th>\n",
       "      <th></th>\n",
       "    </tr>\n",
       "  </thead>\n",
       "  <tbody>\n",
       "    <tr>\n",
       "      <th>4223-BKEOR</th>\n",
       "      <td>Female</td>\n",
       "      <td>0</td>\n",
       "      <td>No</td>\n",
       "      <td>Yes</td>\n",
       "      <td>21</td>\n",
       "      <td>Yes</td>\n",
       "      <td>No</td>\n",
       "      <td>DSL</td>\n",
       "      <td>Yes</td>\n",
       "      <td>No</td>\n",
       "      <td>Yes</td>\n",
       "      <td>No</td>\n",
       "      <td>No</td>\n",
       "      <td>Yes</td>\n",
       "      <td>One year</td>\n",
       "      <td>No</td>\n",
       "      <td>Mailed check</td>\n",
       "      <td>64.85</td>\n",
       "      <td>1336.80</td>\n",
       "      <td>0</td>\n",
       "    </tr>\n",
       "    <tr>\n",
       "      <th>6035-RIIOM</th>\n",
       "      <td>Female</td>\n",
       "      <td>0</td>\n",
       "      <td>No</td>\n",
       "      <td>No</td>\n",
       "      <td>54</td>\n",
       "      <td>Yes</td>\n",
       "      <td>Yes</td>\n",
       "      <td>Fiber optic</td>\n",
       "      <td>No</td>\n",
       "      <td>Yes</td>\n",
       "      <td>No</td>\n",
       "      <td>No</td>\n",
       "      <td>Yes</td>\n",
       "      <td>Yes</td>\n",
       "      <td>Two year</td>\n",
       "      <td>Yes</td>\n",
       "      <td>Bank transfer (automatic)</td>\n",
       "      <td>97.20</td>\n",
       "      <td>5129.45</td>\n",
       "      <td>0</td>\n",
       "    </tr>\n",
       "    <tr>\n",
       "      <th>3797-VTIDR</th>\n",
       "      <td>Male</td>\n",
       "      <td>0</td>\n",
       "      <td>Yes</td>\n",
       "      <td>No</td>\n",
       "      <td>1</td>\n",
       "      <td>No</td>\n",
       "      <td>No phone service</td>\n",
       "      <td>DSL</td>\n",
       "      <td>No</td>\n",
       "      <td>No</td>\n",
       "      <td>No</td>\n",
       "      <td>No</td>\n",
       "      <td>No</td>\n",
       "      <td>No</td>\n",
       "      <td>Month-to-month</td>\n",
       "      <td>Yes</td>\n",
       "      <td>Electronic check</td>\n",
       "      <td>23.45</td>\n",
       "      <td>23.45</td>\n",
       "      <td>0</td>\n",
       "    </tr>\n",
       "    <tr>\n",
       "      <th>2568-BRGYX</th>\n",
       "      <td>Male</td>\n",
       "      <td>0</td>\n",
       "      <td>No</td>\n",
       "      <td>No</td>\n",
       "      <td>4</td>\n",
       "      <td>Yes</td>\n",
       "      <td>No</td>\n",
       "      <td>Fiber optic</td>\n",
       "      <td>No</td>\n",
       "      <td>No</td>\n",
       "      <td>No</td>\n",
       "      <td>No</td>\n",
       "      <td>No</td>\n",
       "      <td>No</td>\n",
       "      <td>Month-to-month</td>\n",
       "      <td>Yes</td>\n",
       "      <td>Electronic check</td>\n",
       "      <td>70.20</td>\n",
       "      <td>237.95</td>\n",
       "      <td>0</td>\n",
       "    </tr>\n",
       "    <tr>\n",
       "      <th>2775-SEFEE</th>\n",
       "      <td>Male</td>\n",
       "      <td>0</td>\n",
       "      <td>No</td>\n",
       "      <td>Yes</td>\n",
       "      <td>0</td>\n",
       "      <td>Yes</td>\n",
       "      <td>Yes</td>\n",
       "      <td>DSL</td>\n",
       "      <td>Yes</td>\n",
       "      <td>Yes</td>\n",
       "      <td>No</td>\n",
       "      <td>Yes</td>\n",
       "      <td>No</td>\n",
       "      <td>No</td>\n",
       "      <td>Two year</td>\n",
       "      <td>Yes</td>\n",
       "      <td>Bank transfer (automatic)</td>\n",
       "      <td>61.90</td>\n",
       "      <td>NaN</td>\n",
       "      <td>1</td>\n",
       "    </tr>\n",
       "  </tbody>\n",
       "</table>\n",
       "</div>"
      ],
      "text/plain": [
       "            gender  SeniorCitizen Partner Dependents  tenure PhoneService  \\\n",
       "customerID                                                                  \n",
       "4223-BKEOR  Female              0      No        Yes      21          Yes   \n",
       "6035-RIIOM  Female              0      No         No      54          Yes   \n",
       "3797-VTIDR    Male              0     Yes         No       1           No   \n",
       "2568-BRGYX    Male              0      No         No       4          Yes   \n",
       "2775-SEFEE    Male              0      No        Yes       0          Yes   \n",
       "\n",
       "               MultipleLines InternetService OnlineSecurity OnlineBackup  \\\n",
       "customerID                                                                 \n",
       "4223-BKEOR                No             DSL            Yes           No   \n",
       "6035-RIIOM               Yes     Fiber optic             No          Yes   \n",
       "3797-VTIDR  No phone service             DSL             No           No   \n",
       "2568-BRGYX                No     Fiber optic             No           No   \n",
       "2775-SEFEE               Yes             DSL            Yes          Yes   \n",
       "\n",
       "           DeviceProtection TechSupport StreamingTV StreamingMovies  \\\n",
       "customerID                                                            \n",
       "4223-BKEOR              Yes          No          No             Yes   \n",
       "6035-RIIOM               No          No         Yes             Yes   \n",
       "3797-VTIDR               No          No          No              No   \n",
       "2568-BRGYX               No          No          No              No   \n",
       "2775-SEFEE               No         Yes          No              No   \n",
       "\n",
       "                  Contract PaperlessBilling              PaymentMethod  \\\n",
       "customerID                                                               \n",
       "4223-BKEOR        One year               No               Mailed check   \n",
       "6035-RIIOM        Two year              Yes  Bank transfer (automatic)   \n",
       "3797-VTIDR  Month-to-month              Yes           Electronic check   \n",
       "2568-BRGYX  Month-to-month              Yes           Electronic check   \n",
       "2775-SEFEE        Two year              Yes  Bank transfer (automatic)   \n",
       "\n",
       "            MonthlyCharges  TotalCharges  TotalCharges_na  \n",
       "customerID                                                 \n",
       "4223-BKEOR           64.85       1336.80                0  \n",
       "6035-RIIOM           97.20       5129.45                0  \n",
       "3797-VTIDR           23.45         23.45                0  \n",
       "2568-BRGYX           70.20        237.95                0  \n",
       "2775-SEFEE           61.90           NaN                1  "
      ]
     },
     "execution_count": 32,
     "metadata": {},
     "output_type": "execute_result"
    }
   ],
   "source": [
    "# Since we dont know a-priori whether the data is Missing Not At Random (MNAR), we will introduce\n",
    "# a new column to indicate the missingness of each feature that has a null value in it\n",
    "\n",
    "import feature_engine.missing_data_imputers as mdi\n",
    "# The alternative is to use the MissingIndicator() from sklearn\n",
    "\n",
    "# set up the imputer\n",
    "binary_imputer_obj = mdi.AddNaNBinaryImputer(variables=null_col_list)\n",
    "\n",
    "# fit the imputer to the train set and transform both the train and test set\n",
    "binary_imputer_obj.fit(X_train)\n",
    "X_train = binary_imputer_obj.transform(X_train)\n",
    "X_test = binary_imputer_obj.transform(X_test)\n",
    "\n",
    "X_train.head()\n",
    "# notice how the columns with nulls have an additional column with _na"
   ]
  },
  {
   "cell_type": "markdown",
   "metadata": {},
   "source": [
    "If you have multiple columns that got imputed, then we need a round of feature reduction using the constant value removal and correlated features. Because its possible that some of the features have missing data that occur at the same time."
   ]
  },
  {
   "cell_type": "markdown",
   "metadata": {},
   "source": [
    "#### - Initialize functions"
   ]
  },
  {
   "cell_type": "code",
   "execution_count": 33,
   "metadata": {},
   "outputs": [],
   "source": [
    "def add_transformed_col_function(original_dataframe, subset_dataframe):\n",
    "    '''\n",
    "    Args: Two dataframes\n",
    "    Returns: The original dataframe where the subset of features have been replaced \n",
    "    with those that of the subset_dataframe\n",
    "    \n",
    "    '''\n",
    "    for col in subset_dataframe.columns:\n",
    "        del original_dataframe[col]\n",
    "    \n",
    "    # Concatenate the subset\n",
    "    original_dataframe = pd.concat([original_dataframe, subset_dataframe], axis = 1)\n",
    "    return original_dataframe"
   ]
  },
  {
   "cell_type": "markdown",
   "metadata": {},
   "source": [
    "#### <a id='622'> Imputation"
   ]
  },
  {
   "cell_type": "markdown",
   "metadata": {},
   "source": [
    "##### - Median imputation for numerical columns"
   ]
  },
  {
   "cell_type": "markdown",
   "metadata": {},
   "source": [
    "- We are allowed to use the Median imputation because less than 5% of the data is missing\n",
    "- If it is higher than that, the distribution will be impacted. In those circumstances, use \n",
    "more sophisticated techniques like using all the features to predict the missing value\n",
    "- This imputation also makes the assumption that the data is Missing At Random (MAR)\n"
   ]
  },
  {
   "cell_type": "code",
   "execution_count": 34,
   "metadata": {},
   "outputs": [
    {
     "name": "stdout",
     "output_type": "stream",
     "text": [
      "Number of columns imputed with Median = 1\n"
     ]
    },
    {
     "data": {
      "text/html": [
       "<div>\n",
       "<style scoped>\n",
       "    .dataframe tbody tr th:only-of-type {\n",
       "        vertical-align: middle;\n",
       "    }\n",
       "\n",
       "    .dataframe tbody tr th {\n",
       "        vertical-align: top;\n",
       "    }\n",
       "\n",
       "    .dataframe thead th {\n",
       "        text-align: right;\n",
       "    }\n",
       "</style>\n",
       "<table border=\"1\" class=\"dataframe\">\n",
       "  <thead>\n",
       "    <tr style=\"text-align: right;\">\n",
       "      <th></th>\n",
       "      <th>TotalCharges</th>\n",
       "    </tr>\n",
       "    <tr>\n",
       "      <th>customerID</th>\n",
       "      <th></th>\n",
       "    </tr>\n",
       "  </thead>\n",
       "  <tbody>\n",
       "    <tr>\n",
       "      <th>4223-BKEOR</th>\n",
       "      <td>1336.80</td>\n",
       "    </tr>\n",
       "    <tr>\n",
       "      <th>6035-RIIOM</th>\n",
       "      <td>5129.45</td>\n",
       "    </tr>\n",
       "    <tr>\n",
       "      <th>3797-VTIDR</th>\n",
       "      <td>23.45</td>\n",
       "    </tr>\n",
       "    <tr>\n",
       "      <th>2568-BRGYX</th>\n",
       "      <td>237.95</td>\n",
       "    </tr>\n",
       "    <tr>\n",
       "      <th>2775-SEFEE</th>\n",
       "      <td>1410.80</td>\n",
       "    </tr>\n",
       "  </tbody>\n",
       "</table>\n",
       "</div>"
      ],
      "text/plain": [
       "            TotalCharges\n",
       "customerID              \n",
       "4223-BKEOR       1336.80\n",
       "6035-RIIOM       5129.45\n",
       "3797-VTIDR         23.45\n",
       "2568-BRGYX        237.95\n",
       "2775-SEFEE       1410.80"
      ]
     },
     "execution_count": 34,
     "metadata": {},
     "output_type": "execute_result"
    }
   ],
   "source": [
    "# Get the column names of the continuous variables that have missing values\n",
    "null_numeric_col_list = list(X_train[numeric_col_list].columns[X_train[numeric_col_list].isna().any()])\n",
    "\n",
    "print('Number of columns imputed with Median = {}'.format(len(null_numeric_col_list)))\n",
    "\n",
    "# set up the imputer with the median imputation method. You can also specify the variables\n",
    "median_imputer_obj = mdi.MeanMedianImputer(imputation_method='median')\n",
    "\n",
    "# fit the imputer but only on the train set\n",
    "median_imputer_obj.fit(X_train[null_numeric_col_list])\n",
    "\n",
    "# Transform on the Test set\n",
    "median_imputed_train_df = median_imputer_obj.transform(X_train[null_numeric_col_list])\n",
    "median_imputed_test_df = median_imputer_obj.transform(X_test[null_numeric_col_list])\n",
    "\n",
    "median_imputed_train_df.head()\n",
    "# This dataframe is a subset of the data that contains only the continuous numerical features"
   ]
  },
  {
   "cell_type": "code",
   "execution_count": 35,
   "metadata": {},
   "outputs": [
    {
     "data": {
      "text/html": [
       "<div>\n",
       "<style scoped>\n",
       "    .dataframe tbody tr th:only-of-type {\n",
       "        vertical-align: middle;\n",
       "    }\n",
       "\n",
       "    .dataframe tbody tr th {\n",
       "        vertical-align: top;\n",
       "    }\n",
       "\n",
       "    .dataframe thead th {\n",
       "        text-align: right;\n",
       "    }\n",
       "</style>\n",
       "<table border=\"1\" class=\"dataframe\">\n",
       "  <thead>\n",
       "    <tr style=\"text-align: right;\">\n",
       "      <th></th>\n",
       "      <th>gender</th>\n",
       "      <th>SeniorCitizen</th>\n",
       "      <th>Partner</th>\n",
       "      <th>Dependents</th>\n",
       "      <th>tenure</th>\n",
       "      <th>PhoneService</th>\n",
       "      <th>MultipleLines</th>\n",
       "      <th>InternetService</th>\n",
       "      <th>OnlineSecurity</th>\n",
       "      <th>OnlineBackup</th>\n",
       "      <th>DeviceProtection</th>\n",
       "      <th>TechSupport</th>\n",
       "      <th>StreamingTV</th>\n",
       "      <th>StreamingMovies</th>\n",
       "      <th>Contract</th>\n",
       "      <th>PaperlessBilling</th>\n",
       "      <th>PaymentMethod</th>\n",
       "      <th>MonthlyCharges</th>\n",
       "      <th>TotalCharges_na</th>\n",
       "      <th>TotalCharges</th>\n",
       "    </tr>\n",
       "    <tr>\n",
       "      <th>customerID</th>\n",
       "      <th></th>\n",
       "      <th></th>\n",
       "      <th></th>\n",
       "      <th></th>\n",
       "      <th></th>\n",
       "      <th></th>\n",
       "      <th></th>\n",
       "      <th></th>\n",
       "      <th></th>\n",
       "      <th></th>\n",
       "      <th></th>\n",
       "      <th></th>\n",
       "      <th></th>\n",
       "      <th></th>\n",
       "      <th></th>\n",
       "      <th></th>\n",
       "      <th></th>\n",
       "      <th></th>\n",
       "      <th></th>\n",
       "      <th></th>\n",
       "    </tr>\n",
       "  </thead>\n",
       "  <tbody>\n",
       "    <tr>\n",
       "      <th>4223-BKEOR</th>\n",
       "      <td>Female</td>\n",
       "      <td>0</td>\n",
       "      <td>No</td>\n",
       "      <td>Yes</td>\n",
       "      <td>21</td>\n",
       "      <td>Yes</td>\n",
       "      <td>No</td>\n",
       "      <td>DSL</td>\n",
       "      <td>Yes</td>\n",
       "      <td>No</td>\n",
       "      <td>Yes</td>\n",
       "      <td>No</td>\n",
       "      <td>No</td>\n",
       "      <td>Yes</td>\n",
       "      <td>One year</td>\n",
       "      <td>No</td>\n",
       "      <td>Mailed check</td>\n",
       "      <td>64.85</td>\n",
       "      <td>0</td>\n",
       "      <td>1336.80</td>\n",
       "    </tr>\n",
       "    <tr>\n",
       "      <th>6035-RIIOM</th>\n",
       "      <td>Female</td>\n",
       "      <td>0</td>\n",
       "      <td>No</td>\n",
       "      <td>No</td>\n",
       "      <td>54</td>\n",
       "      <td>Yes</td>\n",
       "      <td>Yes</td>\n",
       "      <td>Fiber optic</td>\n",
       "      <td>No</td>\n",
       "      <td>Yes</td>\n",
       "      <td>No</td>\n",
       "      <td>No</td>\n",
       "      <td>Yes</td>\n",
       "      <td>Yes</td>\n",
       "      <td>Two year</td>\n",
       "      <td>Yes</td>\n",
       "      <td>Bank transfer (automatic)</td>\n",
       "      <td>97.20</td>\n",
       "      <td>0</td>\n",
       "      <td>5129.45</td>\n",
       "    </tr>\n",
       "    <tr>\n",
       "      <th>3797-VTIDR</th>\n",
       "      <td>Male</td>\n",
       "      <td>0</td>\n",
       "      <td>Yes</td>\n",
       "      <td>No</td>\n",
       "      <td>1</td>\n",
       "      <td>No</td>\n",
       "      <td>No phone service</td>\n",
       "      <td>DSL</td>\n",
       "      <td>No</td>\n",
       "      <td>No</td>\n",
       "      <td>No</td>\n",
       "      <td>No</td>\n",
       "      <td>No</td>\n",
       "      <td>No</td>\n",
       "      <td>Month-to-month</td>\n",
       "      <td>Yes</td>\n",
       "      <td>Electronic check</td>\n",
       "      <td>23.45</td>\n",
       "      <td>0</td>\n",
       "      <td>23.45</td>\n",
       "    </tr>\n",
       "    <tr>\n",
       "      <th>2568-BRGYX</th>\n",
       "      <td>Male</td>\n",
       "      <td>0</td>\n",
       "      <td>No</td>\n",
       "      <td>No</td>\n",
       "      <td>4</td>\n",
       "      <td>Yes</td>\n",
       "      <td>No</td>\n",
       "      <td>Fiber optic</td>\n",
       "      <td>No</td>\n",
       "      <td>No</td>\n",
       "      <td>No</td>\n",
       "      <td>No</td>\n",
       "      <td>No</td>\n",
       "      <td>No</td>\n",
       "      <td>Month-to-month</td>\n",
       "      <td>Yes</td>\n",
       "      <td>Electronic check</td>\n",
       "      <td>70.20</td>\n",
       "      <td>0</td>\n",
       "      <td>237.95</td>\n",
       "    </tr>\n",
       "    <tr>\n",
       "      <th>2775-SEFEE</th>\n",
       "      <td>Male</td>\n",
       "      <td>0</td>\n",
       "      <td>No</td>\n",
       "      <td>Yes</td>\n",
       "      <td>0</td>\n",
       "      <td>Yes</td>\n",
       "      <td>Yes</td>\n",
       "      <td>DSL</td>\n",
       "      <td>Yes</td>\n",
       "      <td>Yes</td>\n",
       "      <td>No</td>\n",
       "      <td>Yes</td>\n",
       "      <td>No</td>\n",
       "      <td>No</td>\n",
       "      <td>Two year</td>\n",
       "      <td>Yes</td>\n",
       "      <td>Bank transfer (automatic)</td>\n",
       "      <td>61.90</td>\n",
       "      <td>1</td>\n",
       "      <td>1410.80</td>\n",
       "    </tr>\n",
       "  </tbody>\n",
       "</table>\n",
       "</div>"
      ],
      "text/plain": [
       "            gender  SeniorCitizen Partner Dependents  tenure PhoneService  \\\n",
       "customerID                                                                  \n",
       "4223-BKEOR  Female              0      No        Yes      21          Yes   \n",
       "6035-RIIOM  Female              0      No         No      54          Yes   \n",
       "3797-VTIDR    Male              0     Yes         No       1           No   \n",
       "2568-BRGYX    Male              0      No         No       4          Yes   \n",
       "2775-SEFEE    Male              0      No        Yes       0          Yes   \n",
       "\n",
       "               MultipleLines InternetService OnlineSecurity OnlineBackup  \\\n",
       "customerID                                                                 \n",
       "4223-BKEOR                No             DSL            Yes           No   \n",
       "6035-RIIOM               Yes     Fiber optic             No          Yes   \n",
       "3797-VTIDR  No phone service             DSL             No           No   \n",
       "2568-BRGYX                No     Fiber optic             No           No   \n",
       "2775-SEFEE               Yes             DSL            Yes          Yes   \n",
       "\n",
       "           DeviceProtection TechSupport StreamingTV StreamingMovies  \\\n",
       "customerID                                                            \n",
       "4223-BKEOR              Yes          No          No             Yes   \n",
       "6035-RIIOM               No          No         Yes             Yes   \n",
       "3797-VTIDR               No          No          No              No   \n",
       "2568-BRGYX               No          No          No              No   \n",
       "2775-SEFEE               No         Yes          No              No   \n",
       "\n",
       "                  Contract PaperlessBilling              PaymentMethod  \\\n",
       "customerID                                                               \n",
       "4223-BKEOR        One year               No               Mailed check   \n",
       "6035-RIIOM        Two year              Yes  Bank transfer (automatic)   \n",
       "3797-VTIDR  Month-to-month              Yes           Electronic check   \n",
       "2568-BRGYX  Month-to-month              Yes           Electronic check   \n",
       "2775-SEFEE        Two year              Yes  Bank transfer (automatic)   \n",
       "\n",
       "            MonthlyCharges  TotalCharges_na  TotalCharges  \n",
       "customerID                                                 \n",
       "4223-BKEOR           64.85                0       1336.80  \n",
       "6035-RIIOM           97.20                0       5129.45  \n",
       "3797-VTIDR           23.45                0         23.45  \n",
       "2568-BRGYX           70.20                0        237.95  \n",
       "2775-SEFEE           61.90                1       1410.80  "
      ]
     },
     "execution_count": 35,
     "metadata": {},
     "output_type": "execute_result"
    }
   ],
   "source": [
    "X_train = add_transformed_col_function(X_train, median_imputed_train_df)\n",
    "X_test = add_transformed_col_function(X_test, median_imputed_test_df)\n",
    "\n",
    "X_train.head()"
   ]
  },
  {
   "cell_type": "markdown",
   "metadata": {},
   "source": [
    "#### - Mode imputation for categorical columns"
   ]
  },
  {
   "cell_type": "markdown",
   "metadata": {},
   "source": [
    "Same condition as before: only use when the nulls are less than 5%\n",
    "\n",
    "Since we have already taken care of the continuous variables, anything else remaining will likely be categorical variable and hence can be imputed with the most frequently occurring value (Mode)"
   ]
  },
  {
   "cell_type": "code",
   "execution_count": 36,
   "metadata": {},
   "outputs": [
    {
     "data": {
      "text/plain": [
       "['PaymentMethod',\n",
       " 'StreamingMovies',\n",
       " 'DeviceProtection',\n",
       " 'PaperlessBilling',\n",
       " 'StreamingTV',\n",
       " 'gender',\n",
       " 'PhoneService',\n",
       " 'TechSupport',\n",
       " 'Contract',\n",
       " 'MultipleLines',\n",
       " 'OnlineBackup',\n",
       " 'SeniorCitizen',\n",
       " 'OnlineSecurity',\n",
       " 'Dependents',\n",
       " 'InternetService',\n",
       " 'Partner']"
      ]
     },
     "execution_count": 36,
     "metadata": {},
     "output_type": "execute_result"
    }
   ],
   "source": [
    "# Obtain all the features which we believe are categorical\n",
    "# Note that it is perfectly okay if some of the numerical columns sneak in \n",
    "missing_ind_col_list = ['TotalCharges_na']\n",
    "cat_col_list = list(set(X_train.columns) - set(numeric_col_list) - set(missing_ind_col_list))\n",
    "cat_col_list"
   ]
  },
  {
   "cell_type": "code",
   "execution_count": 37,
   "metadata": {},
   "outputs": [
    {
     "name": "stdout",
     "output_type": "stream",
     "text": [
      "Number of columns imputed with Mode = 0\n"
     ]
    },
    {
     "data": {
      "text/html": [
       "<div>\n",
       "<style scoped>\n",
       "    .dataframe tbody tr th:only-of-type {\n",
       "        vertical-align: middle;\n",
       "    }\n",
       "\n",
       "    .dataframe tbody tr th {\n",
       "        vertical-align: top;\n",
       "    }\n",
       "\n",
       "    .dataframe thead th {\n",
       "        text-align: right;\n",
       "    }\n",
       "</style>\n",
       "<table border=\"1\" class=\"dataframe\">\n",
       "  <thead>\n",
       "    <tr style=\"text-align: right;\">\n",
       "      <th></th>\n",
       "    </tr>\n",
       "    <tr>\n",
       "      <th>customerID</th>\n",
       "    </tr>\n",
       "  </thead>\n",
       "  <tbody>\n",
       "    <tr>\n",
       "      <th>4223-BKEOR</th>\n",
       "    </tr>\n",
       "    <tr>\n",
       "      <th>6035-RIIOM</th>\n",
       "    </tr>\n",
       "    <tr>\n",
       "      <th>3797-VTIDR</th>\n",
       "    </tr>\n",
       "    <tr>\n",
       "      <th>2568-BRGYX</th>\n",
       "    </tr>\n",
       "    <tr>\n",
       "      <th>2775-SEFEE</th>\n",
       "    </tr>\n",
       "  </tbody>\n",
       "</table>\n",
       "</div>"
      ],
      "text/plain": [
       "Empty DataFrame\n",
       "Columns: []\n",
       "Index: [4223-BKEOR, 6035-RIIOM, 3797-VTIDR, 2568-BRGYX, 2775-SEFEE]"
      ]
     },
     "execution_count": 37,
     "metadata": {},
     "output_type": "execute_result"
    }
   ],
   "source": [
    "# Create a list to store the subset of the categorical variables that have nulls\n",
    "null_cat_col_list = X_train[cat_col_list].columns[X_train[cat_col_list].isna().any()].tolist()\n",
    "\n",
    "print('Number of columns imputed with Mode = {}'.format(len(null_cat_col_list)))\n",
    "\n",
    "mode_imputer_obj = mdi.FrequentCategoryImputer(variables=null_cat_col_list)\n",
    "\n",
    "# fit the imputer\n",
    "mode_imputer_obj.fit(X_train[null_cat_col_list])\n",
    "\n",
    "mode_imputed_train_df = mode_imputer_obj.transform(X_train[null_cat_col_list])\n",
    "mode_imputed_test_df = mode_imputer_obj.transform(X_test[null_cat_col_list])\n",
    "\n",
    "mode_imputed_train_df.head()\n",
    "# This dataframe is a subset of the data that contains only the continuous numerical features\n",
    "# In this dataset, we dont have any null values in the categorical columns"
   ]
  },
  {
   "cell_type": "code",
   "execution_count": 38,
   "metadata": {},
   "outputs": [
    {
     "data": {
      "text/html": [
       "<div>\n",
       "<style scoped>\n",
       "    .dataframe tbody tr th:only-of-type {\n",
       "        vertical-align: middle;\n",
       "    }\n",
       "\n",
       "    .dataframe tbody tr th {\n",
       "        vertical-align: top;\n",
       "    }\n",
       "\n",
       "    .dataframe thead th {\n",
       "        text-align: right;\n",
       "    }\n",
       "</style>\n",
       "<table border=\"1\" class=\"dataframe\">\n",
       "  <thead>\n",
       "    <tr style=\"text-align: right;\">\n",
       "      <th></th>\n",
       "    </tr>\n",
       "    <tr>\n",
       "      <th>customerID</th>\n",
       "    </tr>\n",
       "  </thead>\n",
       "  <tbody>\n",
       "    <tr>\n",
       "      <th>1024-GUALD</th>\n",
       "    </tr>\n",
       "    <tr>\n",
       "      <th>0484-JPBRU</th>\n",
       "    </tr>\n",
       "    <tr>\n",
       "      <th>3620-EHIMZ</th>\n",
       "    </tr>\n",
       "    <tr>\n",
       "      <th>6910-HADCM</th>\n",
       "    </tr>\n",
       "    <tr>\n",
       "      <th>8587-XYZSF</th>\n",
       "    </tr>\n",
       "  </tbody>\n",
       "</table>\n",
       "</div>"
      ],
      "text/plain": [
       "Empty DataFrame\n",
       "Columns: []\n",
       "Index: [1024-GUALD, 0484-JPBRU, 3620-EHIMZ, 6910-HADCM, 8587-XYZSF]"
      ]
     },
     "execution_count": 38,
     "metadata": {},
     "output_type": "execute_result"
    }
   ],
   "source": [
    "mode_imputed_test_df.head()"
   ]
  },
  {
   "cell_type": "markdown",
   "metadata": {},
   "source": [
    "I have commented out the code below because neither the train nor test have any nulls on the data"
   ]
  },
  {
   "cell_type": "code",
   "execution_count": 39,
   "metadata": {},
   "outputs": [],
   "source": [
    "# # Join the above subset of mode imputed features back into the original train/test set\n",
    "# X_train = add_transformed_col_function(X_train, mode_imputed_train_df)\n",
    "# X_test = add_transformed_col_function(X_test, mode_imputed_test_df)\n",
    "\n",
    "# # I have included the code for completeness, but its not required for this dataset\n",
    "# X_train.head()\n"
   ]
  },
  {
   "cell_type": "markdown",
   "metadata": {},
   "source": [
    "#### <a id = 623> Performance Testing on Null Imputed dataframe"
   ]
  },
  {
   "cell_type": "code",
   "execution_count": 40,
   "metadata": {},
   "outputs": [],
   "source": [
    "# Make it go through the whole test performance cycle\n",
    "def modelling_workflow_function(X_train, X_test, y_train, y_test):\n",
    "    \n",
    "    '''\n",
    "    Logic: merges the feature target train and test, converts the object columns into numbers,\n",
    "    Then splits it back into feature/target train/test, then resamples and tests against real test data\n",
    "    \n",
    "    Returns: metric_dict containing all the relevant classification metric \n",
    "    including the precision_at_recall_threshold\n",
    "    \n",
    "    '''\n",
    "    from helper_functions_comprehensive import merge_feature_target_train_test_function\n",
    "\n",
    "    # create a new dataframe to hold the null_imputed values\n",
    "    dataframe = merge_feature_target_train_test_function(X_train, X_test, y_train, y_test)\n",
    "\n",
    "    from sklearn.preprocessing import LabelEncoder\n",
    "\n",
    "    object_columns = dataframe.select_dtypes(include=['object']).columns\n",
    "\n",
    "    for column in object_columns:\n",
    "        labelencoder = LabelEncoder()\n",
    "        dataframe[column] = labelencoder.fit_transform(dataframe[column])\n",
    "\n",
    "    # Feature Target split\n",
    "    X = dataframe.drop(target_class_name, axis=1)\n",
    "    y = dataframe[target_class_name]\n",
    "\n",
    "    # split into train and test set \n",
    "    from sklearn.model_selection import train_test_split\n",
    "    X_train, X_test, y_train, y_test = train_test_split(X, y, test_size=0.2, random_state=42)\n",
    "\n",
    "    # Resampling, fit and test\n",
    "    from imblearn.combine import SMOTEENN\n",
    "    from collections import Counter\n",
    "    \n",
    "    metrics_dict=Counter()\n",
    "\n",
    "    X_resampled_train, y_resampled_train, metrics_dict = resample_and_test_performance_function(\n",
    "    SMOTEENN(sampling_strategy = 'all' ,random_state=42), X_train, y_train, X_test, y_test, labels)\n",
    "\n",
    "    return metrics_dict"
   ]
  },
  {
   "cell_type": "code",
   "execution_count": 41,
   "metadata": {},
   "outputs": [
    {
     "name": "stdout",
     "output_type": "stream",
     "text": [
      "The size of the resampled train sets are as follows:\n",
      "(4696, 20) 2568\n",
      "Has a Test accuracy of 76.0 % \n",
      "              precision    recall  f1-score   support\n",
      "\n",
      "          No       0.87      0.78      0.83      1024\n",
      "         Yes       0.55      0.70      0.62       385\n",
      "\n",
      "    accuracy                           0.76      1409\n",
      "   macro avg       0.71      0.74      0.72      1409\n",
      "weighted avg       0.79      0.76      0.77      1409\n",
      "\n",
      "The ROC AUC Score on Test set is 0.82\n",
      "Confusion matrix, without normalization\n",
      "[[801 223]\n",
      " [115 270]]\n"
     ]
    },
    {
     "data": {
      "image/png": "[encoded data removed]",
      "text/plain": [
       "<Figure size 720x432 with 1 Axes>"
      ]
     },
     "metadata": {},
     "output_type": "display_data"
    },
    {
     "data": {
      "image/png": "[encoded data removed]",
      "text/plain": [
       "<Figure size 576x288 with 2 Axes>"
      ]
     },
     "metadata": {},
     "output_type": "display_data"
    }
   ],
   "source": [
    "metrics_dict = modelling_workflow_function(X_train, X_test, y_train, y_test)"
   ]
  },
  {
   "cell_type": "code",
   "execution_count": 42,
   "metadata": {},
   "outputs": [
    {
     "data": {
      "text/plain": [
       "Counter({'Pos_Precision': 0.5476673427991886,\n",
       "         'Pos_Recall': 0.7012987012987013,\n",
       "         'Pos_F1': 0.6150341685649202,\n",
       "         'ROC AUC': 0.82,\n",
       "         'TN': 801,\n",
       "         'TP': 270,\n",
       "         'FN': 115,\n",
       "         'FP': 223,\n",
       "         'Precision_at_Recall': 0.44625850340136053})"
      ]
     },
     "execution_count": 42,
     "metadata": {},
     "output_type": "execute_result"
    }
   ],
   "source": [
    "metrics_dict\n",
    "# Its not an improvement"
   ]
  },
  {
   "cell_type": "code",
   "execution_count": 43,
   "metadata": {},
   "outputs": [],
   "source": [
    "# Lets try a couple of other techniques to amplify the signal"
   ]
  },
  {
   "cell_type": "markdown",
   "metadata": {},
   "source": [
    "### <a id='63'> Variance Reduction"
   ]
  },
  {
   "cell_type": "markdown",
   "metadata": {},
   "source": [
    "#### <a id='631'>Binning Numerical Features "
   ]
  },
  {
   "cell_type": "code",
   "execution_count": 44,
   "metadata": {},
   "outputs": [
    {
     "data": {
      "text/html": [
       "<div>\n",
       "<style scoped>\n",
       "    .dataframe tbody tr th:only-of-type {\n",
       "        vertical-align: middle;\n",
       "    }\n",
       "\n",
       "    .dataframe tbody tr th {\n",
       "        vertical-align: top;\n",
       "    }\n",
       "\n",
       "    .dataframe thead th {\n",
       "        text-align: right;\n",
       "    }\n",
       "</style>\n",
       "<table border=\"1\" class=\"dataframe\">\n",
       "  <thead>\n",
       "    <tr style=\"text-align: right;\">\n",
       "      <th></th>\n",
       "      <th>gender</th>\n",
       "      <th>SeniorCitizen</th>\n",
       "      <th>Partner</th>\n",
       "      <th>Dependents</th>\n",
       "      <th>tenure</th>\n",
       "      <th>PhoneService</th>\n",
       "      <th>MultipleLines</th>\n",
       "      <th>InternetService</th>\n",
       "      <th>OnlineSecurity</th>\n",
       "      <th>OnlineBackup</th>\n",
       "      <th>DeviceProtection</th>\n",
       "      <th>TechSupport</th>\n",
       "      <th>StreamingTV</th>\n",
       "      <th>StreamingMovies</th>\n",
       "      <th>Contract</th>\n",
       "      <th>PaperlessBilling</th>\n",
       "      <th>PaymentMethod</th>\n",
       "      <th>MonthlyCharges</th>\n",
       "      <th>TotalCharges_na</th>\n",
       "      <th>TotalCharges</th>\n",
       "    </tr>\n",
       "    <tr>\n",
       "      <th>customerID</th>\n",
       "      <th></th>\n",
       "      <th></th>\n",
       "      <th></th>\n",
       "      <th></th>\n",
       "      <th></th>\n",
       "      <th></th>\n",
       "      <th></th>\n",
       "      <th></th>\n",
       "      <th></th>\n",
       "      <th></th>\n",
       "      <th></th>\n",
       "      <th></th>\n",
       "      <th></th>\n",
       "      <th></th>\n",
       "      <th></th>\n",
       "      <th></th>\n",
       "      <th></th>\n",
       "      <th></th>\n",
       "      <th></th>\n",
       "      <th></th>\n",
       "    </tr>\n",
       "  </thead>\n",
       "  <tbody>\n",
       "    <tr>\n",
       "      <th>4223-BKEOR</th>\n",
       "      <td>Female</td>\n",
       "      <td>0</td>\n",
       "      <td>No</td>\n",
       "      <td>Yes</td>\n",
       "      <td>21</td>\n",
       "      <td>Yes</td>\n",
       "      <td>No</td>\n",
       "      <td>DSL</td>\n",
       "      <td>Yes</td>\n",
       "      <td>No</td>\n",
       "      <td>Yes</td>\n",
       "      <td>No</td>\n",
       "      <td>No</td>\n",
       "      <td>Yes</td>\n",
       "      <td>One year</td>\n",
       "      <td>No</td>\n",
       "      <td>Mailed check</td>\n",
       "      <td>8</td>\n",
       "      <td>0</td>\n",
       "      <td>1336.80</td>\n",
       "    </tr>\n",
       "    <tr>\n",
       "      <th>6035-RIIOM</th>\n",
       "      <td>Female</td>\n",
       "      <td>0</td>\n",
       "      <td>No</td>\n",
       "      <td>No</td>\n",
       "      <td>54</td>\n",
       "      <td>Yes</td>\n",
       "      <td>Yes</td>\n",
       "      <td>Fiber optic</td>\n",
       "      <td>No</td>\n",
       "      <td>Yes</td>\n",
       "      <td>No</td>\n",
       "      <td>No</td>\n",
       "      <td>Yes</td>\n",
       "      <td>Yes</td>\n",
       "      <td>Two year</td>\n",
       "      <td>Yes</td>\n",
       "      <td>Bank transfer (automatic)</td>\n",
       "      <td>16</td>\n",
       "      <td>0</td>\n",
       "      <td>5129.45</td>\n",
       "    </tr>\n",
       "    <tr>\n",
       "      <th>3797-VTIDR</th>\n",
       "      <td>Male</td>\n",
       "      <td>0</td>\n",
       "      <td>Yes</td>\n",
       "      <td>No</td>\n",
       "      <td>1</td>\n",
       "      <td>No</td>\n",
       "      <td>No phone service</td>\n",
       "      <td>DSL</td>\n",
       "      <td>No</td>\n",
       "      <td>No</td>\n",
       "      <td>No</td>\n",
       "      <td>No</td>\n",
       "      <td>No</td>\n",
       "      <td>No</td>\n",
       "      <td>Month-to-month</td>\n",
       "      <td>Yes</td>\n",
       "      <td>Electronic check</td>\n",
       "      <td>3</td>\n",
       "      <td>0</td>\n",
       "      <td>23.45</td>\n",
       "    </tr>\n",
       "    <tr>\n",
       "      <th>2568-BRGYX</th>\n",
       "      <td>Male</td>\n",
       "      <td>0</td>\n",
       "      <td>No</td>\n",
       "      <td>No</td>\n",
       "      <td>4</td>\n",
       "      <td>Yes</td>\n",
       "      <td>No</td>\n",
       "      <td>Fiber optic</td>\n",
       "      <td>No</td>\n",
       "      <td>No</td>\n",
       "      <td>No</td>\n",
       "      <td>No</td>\n",
       "      <td>No</td>\n",
       "      <td>No</td>\n",
       "      <td>Month-to-month</td>\n",
       "      <td>Yes</td>\n",
       "      <td>Electronic check</td>\n",
       "      <td>9</td>\n",
       "      <td>0</td>\n",
       "      <td>237.95</td>\n",
       "    </tr>\n",
       "    <tr>\n",
       "      <th>2775-SEFEE</th>\n",
       "      <td>Male</td>\n",
       "      <td>0</td>\n",
       "      <td>No</td>\n",
       "      <td>Yes</td>\n",
       "      <td>0</td>\n",
       "      <td>Yes</td>\n",
       "      <td>Yes</td>\n",
       "      <td>DSL</td>\n",
       "      <td>Yes</td>\n",
       "      <td>Yes</td>\n",
       "      <td>No</td>\n",
       "      <td>Yes</td>\n",
       "      <td>No</td>\n",
       "      <td>No</td>\n",
       "      <td>Two year</td>\n",
       "      <td>Yes</td>\n",
       "      <td>Bank transfer (automatic)</td>\n",
       "      <td>8</td>\n",
       "      <td>1</td>\n",
       "      <td>1410.80</td>\n",
       "    </tr>\n",
       "  </tbody>\n",
       "</table>\n",
       "</div>"
      ],
      "text/plain": [
       "            gender  SeniorCitizen Partner Dependents  tenure PhoneService  \\\n",
       "customerID                                                                  \n",
       "4223-BKEOR  Female              0      No        Yes      21          Yes   \n",
       "6035-RIIOM  Female              0      No         No      54          Yes   \n",
       "3797-VTIDR    Male              0     Yes         No       1           No   \n",
       "2568-BRGYX    Male              0      No         No       4          Yes   \n",
       "2775-SEFEE    Male              0      No        Yes       0          Yes   \n",
       "\n",
       "               MultipleLines InternetService OnlineSecurity OnlineBackup  \\\n",
       "customerID                                                                 \n",
       "4223-BKEOR                No             DSL            Yes           No   \n",
       "6035-RIIOM               Yes     Fiber optic             No          Yes   \n",
       "3797-VTIDR  No phone service             DSL             No           No   \n",
       "2568-BRGYX                No     Fiber optic             No           No   \n",
       "2775-SEFEE               Yes             DSL            Yes          Yes   \n",
       "\n",
       "           DeviceProtection TechSupport StreamingTV StreamingMovies  \\\n",
       "customerID                                                            \n",
       "4223-BKEOR              Yes          No          No             Yes   \n",
       "6035-RIIOM               No          No         Yes             Yes   \n",
       "3797-VTIDR               No          No          No              No   \n",
       "2568-BRGYX               No          No          No              No   \n",
       "2775-SEFEE               No         Yes          No              No   \n",
       "\n",
       "                  Contract PaperlessBilling              PaymentMethod  \\\n",
       "customerID                                                               \n",
       "4223-BKEOR        One year               No               Mailed check   \n",
       "6035-RIIOM        Two year              Yes  Bank transfer (automatic)   \n",
       "3797-VTIDR  Month-to-month              Yes           Electronic check   \n",
       "2568-BRGYX  Month-to-month              Yes           Electronic check   \n",
       "2775-SEFEE        Two year              Yes  Bank transfer (automatic)   \n",
       "\n",
       "           MonthlyCharges  TotalCharges_na  TotalCharges  \n",
       "customerID                                                \n",
       "4223-BKEOR              8                0       1336.80  \n",
       "6035-RIIOM             16                0       5129.45  \n",
       "3797-VTIDR              3                0         23.45  \n",
       "2568-BRGYX              9                0        237.95  \n",
       "2775-SEFEE              8                1       1410.80  "
      ]
     },
     "execution_count": 44,
     "metadata": {},
     "output_type": "execute_result"
    }
   ],
   "source": [
    "from feature_engine.discretisers import EqualFrequencyDiscretiser\n",
    "\n",
    "contns_to_discrete_col_list = ['MonthlyCharges']\n",
    "\n",
    "# Lets mandate that we need 20 categories as the output from the discretizer based on the EDA step\n",
    "discretizer_obj = EqualFrequencyDiscretiser(q=20, \n",
    "                  variables=contns_to_discrete_col_list, return_object=True)\n",
    "\n",
    "# find the intervals for each of the above\n",
    "discretizer_obj.fit(X_train)\n",
    "\n",
    "# Transform the train and test datasets and then overwrite the existing versions\n",
    "X_train = discretizer_obj.transform(X_train)\n",
    "X_test = discretizer_obj.transform(X_test)\n",
    "\n",
    "X_train.head()\n",
    "# note that the discretized column by default gets treated as an object type eventhough its a number"
   ]
  },
  {
   "cell_type": "markdown",
   "metadata": {},
   "source": [
    "#### <a id = 632> Performance Testing on Binning"
   ]
  },
  {
   "cell_type": "code",
   "execution_count": 45,
   "metadata": {},
   "outputs": [
    {
     "name": "stdout",
     "output_type": "stream",
     "text": [
      "The size of the resampled train sets are as follows:\n",
      "(4888, 20) 2775\n",
      "Has a Test accuracy of 76.0 % \n",
      "              precision    recall  f1-score   support\n",
      "\n",
      "          No       0.88      0.78      0.82      1024\n",
      "         Yes       0.55      0.72      0.62       385\n",
      "\n",
      "    accuracy                           0.76      1409\n",
      "   macro avg       0.71      0.75      0.72      1409\n",
      "weighted avg       0.79      0.76      0.77      1409\n",
      "\n",
      "The ROC AUC Score on Test set is 0.82\n",
      "Confusion matrix, without normalization\n",
      "[[794 230]\n",
      " [107 278]]\n"
     ]
    },
    {
     "data": {
      "image/png": "[encoded data removed]",
      "text/plain": [
       "<Figure size 720x432 with 1 Axes>"
      ]
     },
     "metadata": {},
     "output_type": "display_data"
    },
    {
     "data": {
      "image/png": "[encoded data removed]",
      "text/plain": [
       "<Figure size 576x288 with 2 Axes>"
      ]
     },
     "metadata": {},
     "output_type": "display_data"
    }
   ],
   "source": [
    "metrics_dict = modelling_workflow_function(X_train, X_test, y_train, y_test)"
   ]
  },
  {
   "cell_type": "code",
   "execution_count": 46,
   "metadata": {},
   "outputs": [
    {
     "data": {
      "text/plain": [
       "Counter({'Pos_Precision': 0.547244094488189,\n",
       "         'Pos_Recall': 0.7220779220779221,\n",
       "         'Pos_F1': 0.6226203807390819,\n",
       "         'ROC AUC': 0.82,\n",
       "         'TN': 794,\n",
       "         'TP': 278,\n",
       "         'FN': 107,\n",
       "         'FP': 230,\n",
       "         'Precision_at_Recall': 0.4568245125348189})"
      ]
     },
     "execution_count": 46,
     "metadata": {},
     "output_type": "execute_result"
    }
   ],
   "source": [
    "metrics_dict"
   ]
  },
  {
   "cell_type": "markdown",
   "metadata": {},
   "source": [
    "#### Its a small improvement from before but still lower than with just the resampling"
   ]
  },
  {
   "cell_type": "markdown",
   "metadata": {},
   "source": [
    "Homework to the viewer is to get the discretization through a custom function that takes the mean value for each mini-histogram seen in the MonthlyCharges\n",
    "ie the mean values will be 20, 25, 30, etc."
   ]
  },
  {
   "cell_type": "code",
   "execution_count": 47,
   "metadata": {},
   "outputs": [],
   "source": [
    "# monthly_charges_bins = [15]\n",
    "# monthly_charges_bins = monthly_charges_bins + (list(np.arange(22.5,117.5,5)))\n",
    "# monthly_charges_bins.append(125)\n",
    "# cut_point_list = list(range(20,120,5))\n",
    "\n",
    "# X_train['MonthlyCharges'] = pd.cut(X_train['MonthlyCharges'], \n",
    "#                                           bins=monthly_charges_bins, labels=cut_point_list)\n",
    "# X_test['MonthlyCharges'] = pd.cut(X_test['MonthlyCharges'], \n",
    "#                                           bins=monthly_charges_bins, labels=cut_point_list)\n",
    "\n",
    "# # Change the MonthlyCharges column into float from str    \n",
    "# destination_data_type_col_dict = {'MonthlyCharges':float}\n",
    "\n",
    "# for col, data_type in destination_data_type_col_dict.items():\n",
    "#     X_train[col] = X_train[col].astype(data_type)\n",
    "#     X_test[col] = X_test[col].astype(data_type)\n",
    "    \n",
    "# X_train.dtypes\n",
    "\n",
    "# # numerical_distribution_function(X_train[['MonthlyCharges']], bins=120)\n",
    "# metrics_dict = modelling_workflow_function(X_train, X_test, y_train, y_test)\n",
    "# metrics_dict"
   ]
  },
  {
   "cell_type": "code",
   "execution_count": null,
   "metadata": {},
   "outputs": [],
   "source": []
  },
  {
   "cell_type": "markdown",
   "metadata": {},
   "source": [
    "#### <a id='633'> Rare Label Encoding - Categorical Features"
   ]
  },
  {
   "cell_type": "code",
   "execution_count": 48,
   "metadata": {},
   "outputs": [
    {
     "data": {
      "text/plain": [
       "['PaymentMethod',\n",
       " 'StreamingMovies',\n",
       " 'DeviceProtection',\n",
       " 'PaperlessBilling',\n",
       " 'StreamingTV',\n",
       " 'gender',\n",
       " 'PhoneService',\n",
       " 'TechSupport',\n",
       " 'Contract',\n",
       " 'MultipleLines',\n",
       " 'OnlineBackup',\n",
       " 'OnlineSecurity',\n",
       " 'Dependents',\n",
       " 'InternetService',\n",
       " 'Partner']"
      ]
     },
     "execution_count": 48,
     "metadata": {},
     "output_type": "execute_result"
    }
   ],
   "source": [
    "object_col_list = list(X_train.select_dtypes(include=['object']).columns)\n",
    "object_col_list = list(set(object_col_list) - set(['MonthlyCharges']))\n",
    "object_col_list\n",
    "# I have deliberately removed the MonthlyCharges because I know that its a number"
   ]
  },
  {
   "cell_type": "code",
   "execution_count": 49,
   "metadata": {},
   "outputs": [
    {
     "name": "stdout",
     "output_type": "stream",
     "text": [
      "PaymentMethod\n",
      "StreamingMovies\n",
      "DeviceProtection\n",
      "StreamingTV\n",
      "TechSupport\n",
      "Contract\n",
      "MultipleLines\n",
      "OnlineBackup\n",
      "OnlineSecurity\n",
      "InternetService\n"
     ]
    }
   ],
   "source": [
    "# This step is needed if you want to convert all categorical columns to ordinal encoded numbers\n",
    "# Works only with tree-based algorithms but not for linear models or neural nets\n",
    "\n",
    "from feature_engine.categorical_encoders import RareLabelCategoricalEncoder\n",
    "\n",
    "# Filter the above object columns based on the object data type\n",
    "# object_col_list = list(X_train.select_dtypes(include=['object']).columns)\n",
    "\n",
    "# First select the features with greater than 2 levels\n",
    "cat_series = X_train[object_col_list].nunique()\n",
    "non_binary_cat_col_list = list(cat_series[cat_series>2].index)\n",
    "\n",
    "# This takes of the situation where the % occurrence is relatively high in the levels\n",
    "# ie where none of the levels are lower than 5% cutoff\n",
    "for col in non_binary_cat_col_list:\n",
    "\n",
    "    print(col)\n",
    "    \n",
    "    level_perc_dict = (X_train.groupby(col)[col].count()/len(X_train)).to_dict()\n",
    "    \n",
    "    # Get the level with the lowest percentage of occurrence\n",
    "    lowest_occurrence_level = min(level_perc_dict, key=level_perc_dict.get)\n",
    "    \n",
    "#     print(lowest_occurrence_level)\n",
    "    \n",
    "    # Replace the lowest level of the train with rare\n",
    "    X_train[col] = np.where(X_train[col].isin([lowest_occurrence_level]), 'Rare', X_train[col])\n",
    "    \n",
    "    # Repeat for the test (notice how the lowest level is from the train data)\n",
    "    X_test[col] = np.where(X_test[col].isin([lowest_occurrence_level]), 'Rare', X_test[col])\n",
    "    \n",
    "# If I had just used the RareLabelCategoricalEncoder, then I would be screwed when Test contains levels\n",
    "# not seen in the train set for those features that are relatively well balanced and above 5% in train\n",
    "\n",
    "#### This takes care of those levels that are genuinely too rare\n",
    "\n",
    "# Instantiate the encoder from the Feature Engine\n",
    "rare_encoder_obj = RareLabelCategoricalEncoder(tol=0.05, \n",
    "                                               n_categories=3, variables=non_binary_cat_col_list)\n",
    "\n",
    "\n",
    "rare_encoder_obj.fit(X_train)\n",
    "\n",
    "# Transform both the train and test objects\n",
    "X_train = rare_encoder_obj.transform(X_train)\n",
    "X_test = rare_encoder_obj.transform(X_test)\n"
   ]
  },
  {
   "cell_type": "markdown",
   "metadata": {},
   "source": [
    "#### <a id = 634> Performance Testing on Cardinality Reduction"
   ]
  },
  {
   "cell_type": "code",
   "execution_count": 51,
   "metadata": {},
   "outputs": [
    {
     "name": "stdout",
     "output_type": "stream",
     "text": [
      "The size of the resampled train sets are as follows:\n",
      "(4883, 20) 2773\n",
      "Has a Test accuracy of 77.0 % \n",
      "              precision    recall  f1-score   support\n",
      "\n",
      "          No       0.88      0.79      0.83      1024\n",
      "         Yes       0.56      0.72      0.63       385\n",
      "\n",
      "    accuracy                           0.77      1409\n",
      "   macro avg       0.72      0.75      0.73      1409\n",
      "weighted avg       0.79      0.77      0.78      1409\n",
      "\n",
      "The ROC AUC Score on Test set is 0.82\n",
      "Confusion matrix, without normalization\n",
      "[[804 220]\n",
      " [106 279]]\n"
     ]
    },
    {
     "data": {
      "image/png": "[encoded data removed]",
      "text/plain": [
       "<Figure size 720x432 with 1 Axes>"
      ]
     },
     "metadata": {},
     "output_type": "display_data"
    },
    {
     "data": {
      "image/png": "[encoded data removed]",
      "text/plain": [
       "<Figure size 576x288 with 2 Axes>"
      ]
     },
     "metadata": {},
     "output_type": "display_data"
    },
    {
     "data": {
      "text/plain": [
       "Counter({'Pos_Precision': 0.5591182364729459,\n",
       "         'Pos_Recall': 0.7246753246753247,\n",
       "         'Pos_F1': 0.6312217194570136,\n",
       "         'ROC AUC': 0.82,\n",
       "         'TN': 804,\n",
       "         'TP': 279,\n",
       "         'FN': 106,\n",
       "         'FP': 220,\n",
       "         'Precision_at_Recall': 0.4470108695652174})"
      ]
     },
     "execution_count": 51,
     "metadata": {},
     "output_type": "execute_result"
    }
   ],
   "source": [
    "metrics_dict = modelling_workflow_function(X_train, X_test, y_train, y_test)\n",
    "metrics_dict"
   ]
  },
  {
   "cell_type": "markdown",
   "metadata": {},
   "source": [
    "## <a id='7'> Conclusion"
   ]
  },
  {
   "cell_type": "markdown",
   "metadata": {},
   "source": [
    "The results are slightly worse than with the resampling effort, hence I am going to use the SMOTEENN on the cleaned dataframe from Day1 for future analysis"
   ]
  },
  {
   "cell_type": "markdown",
   "metadata": {},
   "source": [
    "## <a id='8'>References</a> "
   ]
  },
  {
   "cell_type": "markdown",
   "metadata": {},
   "source": [
    "A very good Kaggle notebook for understanding SMOTE \n",
    "https://www.kaggle.com/janiobachmann/credit-fraud-dealing-with-imbalanced-datasets\n",
    "\n",
    "Understanding IQR and Z scores for Outlier detection and removal\n",
    "http://colingorrie.github.io/outlier-detection.html"
   ]
  },
  {
   "cell_type": "code",
   "execution_count": 42,
   "metadata": {},
   "outputs": [],
   "source": [
    "# In future weeks, we are going to try out feature engineering to synthetically increase the number of features available"
   ]
  }
 ],
 "metadata": {
  "kernelspec": {
   "display_name": "Python 3",
   "language": "python",
   "name": "python3"
  },
  "language_info": {
   "codemirror_mode": {
    "name": "ipython",
    "version": 3
   },
   "file_extension": ".py",
   "mimetype": "text/x-python",
   "name": "python",
   "nbconvert_exporter": "python",
   "pygments_lexer": "ipython3",
   "version": "3.6.6"
  }
 },
 "nbformat": 4,
 "nbformat_minor": 2
}
